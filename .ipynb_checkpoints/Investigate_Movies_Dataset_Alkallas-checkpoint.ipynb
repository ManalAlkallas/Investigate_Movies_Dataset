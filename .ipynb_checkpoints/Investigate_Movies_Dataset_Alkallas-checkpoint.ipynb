{
 "cells": [
  {
   "cell_type": "markdown",
   "metadata": {},
   "source": [
    "# Project 2: Investigate the Movie Dataset - Manal Alkallas\n",
    "\n",
    "## Table of Contents\n",
    "<ul>\n",
    "<li><a href=\"#intro\">Introduction</a></li>\n",
    "<li><a href=\"#import\">Importing the necessary packages</a></li> \n",
    "<li><a href=\"#wrangling\">Data Wrangling</a>\n",
    "    <ul>\n",
    "      <li> <a href=\"#pro\">General Properties of the Dataset</a></li>\n",
    "      <li> <a href=\"#dup\">Data Cleaning - Drop duplicated rows </a></li>\n",
    "      <li> <a href=\"#null\">Data Cleaning - Solving 0 Values</a></li>\n",
    "      <li> <a href=\"#drop\">Data Cleaning - Drop columns</a></li>\n",
    "      <li> <a href=\"#data\">Data Cleaning - Change Data Type</a></li>\n",
    "    </ul>\n",
    "</li>\n",
    "<li><a href=\"#eda\">Exploratory Data Analysis</a>\n",
    "    <ul>\n",
    "       <li> <a href=\"#cen\"> Movies numbers trend over two centuries</a></li>\n",
    "      <li> <a href=\"#pop\"> Analysing Movie Popularity Trend over Years</a></li>\n",
    "      <li> <a href=\"#rat\"> Analysing Rating</a></li>\n",
    "      <li> <a href=\"#gen\">Analysing Genres</a></li>\n",
    "    </ul>\n",
    "\n",
    "</li>\n",
    "<li><a href=\"#conclusions\">Conclusions</a></li>\n",
    "</ul>"
   ]
  },
  {
   "cell_type": "markdown",
   "metadata": {},
   "source": [
    "<a id='intro'></a>\n",
    "## Introduction\n",
    "\n",
    "This data set contains information about 10,500 movies collected from The Movie Database (TMDb), including user ratings ratings, revenue, runtime and budget.\n",
    "\n",
    "In this project, I will be answering the following questions:\n",
    "<ul>\n",
    "<li>Analyse trend over the years and over two centuries in terms of the number of movies produced</li>\n",
    "<li>Movie popularity Trend over the years</li>\n",
    "<li>Analysing Rating Average</li>\n",
    "<li>Relationship between release year and vote average</li>\n",
    "<li>What are the 25 most rated movies?</li>\n",
    "<li>Top 25 popular/high rating data filtered by years</li>\n",
    "<li>The relationship between runtime and vote average?</li>\n",
    "<li>Analysing Genres by defining the 3 most/least commen genres  </li>\n",
    "</ul>"
   ]
  },
  {
   "cell_type": "markdown",
   "metadata": {},
   "source": [
    "<a id='import'></a>\n",
    "## Importing the necessary packages"
   ]
  },
  {
   "cell_type": "code",
   "execution_count": 1,
   "metadata": {
    "collapsed": true
   },
   "outputs": [],
   "source": [
    "# Import all the necessary packages  to import the dataset\n",
    "\n",
    "import numpy as np\n",
    "import pandas as pd\n",
    "import matplotlib.pyplot as plt\n",
    "%matplotlib inline  \n",
    "\n",
    "import warnings\n",
    "warnings.filterwarnings('ignore')"
   ]
  },
  {
   "cell_type": "markdown",
   "metadata": {},
   "source": [
    "<a id='wrangling'></a>\n",
    "## Data Wrangling"
   ]
  },
  {
   "cell_type": "markdown",
   "metadata": {},
   "source": [
    "<a id='pro'></a>\n",
    "### General Properties of the Dataset"
   ]
  },
  {
   "cell_type": "code",
   "execution_count": 2,
   "metadata": {},
   "outputs": [
    {
     "name": "stdout",
     "output_type": "stream",
     "text": [
      "(10866, 21)\n"
     ]
    },
    {
     "data": {
      "text/html": [
       "<div>\n",
       "<table border=\"1\" class=\"dataframe\">\n",
       "  <thead>\n",
       "    <tr style=\"text-align: right;\">\n",
       "      <th></th>\n",
       "      <th>id</th>\n",
       "      <th>imdb_id</th>\n",
       "      <th>popularity</th>\n",
       "      <th>budget</th>\n",
       "      <th>revenue</th>\n",
       "      <th>original_title</th>\n",
       "      <th>cast</th>\n",
       "      <th>homepage</th>\n",
       "      <th>director</th>\n",
       "      <th>tagline</th>\n",
       "      <th>...</th>\n",
       "      <th>overview</th>\n",
       "      <th>runtime</th>\n",
       "      <th>genres</th>\n",
       "      <th>production_companies</th>\n",
       "      <th>release_date</th>\n",
       "      <th>vote_count</th>\n",
       "      <th>vote_average</th>\n",
       "      <th>release_year</th>\n",
       "      <th>budget_adj</th>\n",
       "      <th>revenue_adj</th>\n",
       "    </tr>\n",
       "  </thead>\n",
       "  <tbody>\n",
       "    <tr>\n",
       "      <th>0</th>\n",
       "      <td>135397</td>\n",
       "      <td>tt0369610</td>\n",
       "      <td>32.985763</td>\n",
       "      <td>150000000</td>\n",
       "      <td>1513528810</td>\n",
       "      <td>Jurassic World</td>\n",
       "      <td>Chris Pratt|Bryce Dallas Howard|Irrfan Khan|Vi...</td>\n",
       "      <td>http://www.jurassicworld.com/</td>\n",
       "      <td>Colin Trevorrow</td>\n",
       "      <td>The park is open.</td>\n",
       "      <td>...</td>\n",
       "      <td>Twenty-two years after the events of Jurassic ...</td>\n",
       "      <td>124</td>\n",
       "      <td>Action|Adventure|Science Fiction|Thriller</td>\n",
       "      <td>Universal Studios|Amblin Entertainment|Legenda...</td>\n",
       "      <td>6/9/15</td>\n",
       "      <td>5562</td>\n",
       "      <td>6.5</td>\n",
       "      <td>2015</td>\n",
       "      <td>1.379999e+08</td>\n",
       "      <td>1.392446e+09</td>\n",
       "    </tr>\n",
       "    <tr>\n",
       "      <th>1</th>\n",
       "      <td>76341</td>\n",
       "      <td>tt1392190</td>\n",
       "      <td>28.419936</td>\n",
       "      <td>150000000</td>\n",
       "      <td>378436354</td>\n",
       "      <td>Mad Max: Fury Road</td>\n",
       "      <td>Tom Hardy|Charlize Theron|Hugh Keays-Byrne|Nic...</td>\n",
       "      <td>http://www.madmaxmovie.com/</td>\n",
       "      <td>George Miller</td>\n",
       "      <td>What a Lovely Day.</td>\n",
       "      <td>...</td>\n",
       "      <td>An apocalyptic story set in the furthest reach...</td>\n",
       "      <td>120</td>\n",
       "      <td>Action|Adventure|Science Fiction|Thriller</td>\n",
       "      <td>Village Roadshow Pictures|Kennedy Miller Produ...</td>\n",
       "      <td>5/13/15</td>\n",
       "      <td>6185</td>\n",
       "      <td>7.1</td>\n",
       "      <td>2015</td>\n",
       "      <td>1.379999e+08</td>\n",
       "      <td>3.481613e+08</td>\n",
       "    </tr>\n",
       "  </tbody>\n",
       "</table>\n",
       "<p>2 rows × 21 columns</p>\n",
       "</div>"
      ],
      "text/plain": [
       "       id    imdb_id  popularity     budget     revenue      original_title  \\\n",
       "0  135397  tt0369610   32.985763  150000000  1513528810      Jurassic World   \n",
       "1   76341  tt1392190   28.419936  150000000   378436354  Mad Max: Fury Road   \n",
       "\n",
       "                                                cast  \\\n",
       "0  Chris Pratt|Bryce Dallas Howard|Irrfan Khan|Vi...   \n",
       "1  Tom Hardy|Charlize Theron|Hugh Keays-Byrne|Nic...   \n",
       "\n",
       "                        homepage         director             tagline  \\\n",
       "0  http://www.jurassicworld.com/  Colin Trevorrow   The park is open.   \n",
       "1    http://www.madmaxmovie.com/    George Miller  What a Lovely Day.   \n",
       "\n",
       "       ...                                                overview runtime  \\\n",
       "0      ...       Twenty-two years after the events of Jurassic ...     124   \n",
       "1      ...       An apocalyptic story set in the furthest reach...     120   \n",
       "\n",
       "                                      genres  \\\n",
       "0  Action|Adventure|Science Fiction|Thriller   \n",
       "1  Action|Adventure|Science Fiction|Thriller   \n",
       "\n",
       "                                production_companies release_date vote_count  \\\n",
       "0  Universal Studios|Amblin Entertainment|Legenda...       6/9/15       5562   \n",
       "1  Village Roadshow Pictures|Kennedy Miller Produ...      5/13/15       6185   \n",
       "\n",
       "   vote_average  release_year    budget_adj   revenue_adj  \n",
       "0           6.5          2015  1.379999e+08  1.392446e+09  \n",
       "1           7.1          2015  1.379999e+08  3.481613e+08  \n",
       "\n",
       "[2 rows x 21 columns]"
      ]
     },
     "execution_count": 2,
     "metadata": {},
     "output_type": "execute_result"
    }
   ],
   "source": [
    "# Load movies' data frame\n",
    "movies_df = pd.read_csv('tmdb-movies.csv')    \n",
    "\n",
    "# Returns a tuple of the dimensions of the movies dataframe \n",
    "print(movies_df.shape)  \n",
    "\n",
    "# Print out a few lines to see how the dataset looks like\n",
    "movies_df.head(2)          "
   ]
  },
  {
   "cell_type": "code",
   "execution_count": 3,
   "metadata": {},
   "outputs": [
    {
     "data": {
      "text/plain": [
       "id                        int64\n",
       "imdb_id                  object\n",
       "popularity              float64\n",
       "budget                    int64\n",
       "revenue                   int64\n",
       "original_title           object\n",
       "cast                     object\n",
       "homepage                 object\n",
       "director                 object\n",
       "tagline                  object\n",
       "keywords                 object\n",
       "overview                 object\n",
       "runtime                   int64\n",
       "genres                   object\n",
       "production_companies     object\n",
       "release_date             object\n",
       "vote_count                int64\n",
       "vote_average            float64\n",
       "release_year              int64\n",
       "budget_adj              float64\n",
       "revenue_adj             float64\n",
       "dtype: object"
      ]
     },
     "execution_count": 3,
     "metadata": {},
     "output_type": "execute_result"
    }
   ],
   "source": [
    " # Return the datatypes of the columns\n",
    "movies_df.dtypes            "
   ]
  },
  {
   "cell_type": "code",
   "execution_count": 4,
   "metadata": {},
   "outputs": [
    {
     "data": {
      "text/plain": [
       "1"
      ]
     },
     "execution_count": 4,
     "metadata": {},
     "output_type": "execute_result"
    }
   ],
   "source": [
    "# Find out how many duplicate rows in the dataset\n",
    "movies_df.duplicated().sum()  "
   ]
  },
  {
   "cell_type": "code",
   "execution_count": 5,
   "metadata": {},
   "outputs": [
    {
     "data": {
      "text/plain": [
       "id                         0\n",
       "imdb_id                   10\n",
       "popularity                 0\n",
       "budget                     0\n",
       "revenue                    0\n",
       "original_title             0\n",
       "cast                      76\n",
       "homepage                7930\n",
       "director                  44\n",
       "tagline                 2824\n",
       "keywords                1493\n",
       "overview                   4\n",
       "runtime                    0\n",
       "genres                    23\n",
       "production_companies    1030\n",
       "release_date               0\n",
       "vote_count                 0\n",
       "vote_average               0\n",
       "release_year               0\n",
       "budget_adj                 0\n",
       "revenue_adj                0\n",
       "dtype: int64"
      ]
     },
     "execution_count": 5,
     "metadata": {},
     "output_type": "execute_result"
    }
   ],
   "source": [
    "# Find out how many missing values\n",
    "movies_df.isnull().sum()     "
   ]
  },
  {
   "cell_type": "code",
   "execution_count": 6,
   "metadata": {},
   "outputs": [
    {
     "ename": "AttributeError",
     "evalue": "'DataFrame' object has no attribute 'nunique'",
     "output_type": "error",
     "traceback": [
      "\u001b[1;31m---------------------------------------------------------------------------\u001b[0m",
      "\u001b[1;31mAttributeError\u001b[0m                            Traceback (most recent call last)",
      "\u001b[1;32m<ipython-input-6-56ee1ecf46d7>\u001b[0m in \u001b[0;36m<module>\u001b[1;34m()\u001b[0m\n\u001b[0;32m      1\u001b[0m \u001b[1;31m# Returns the number of unique values in each column\u001b[0m\u001b[1;33m\u001b[0m\u001b[1;33m\u001b[0m\u001b[0m\n\u001b[1;32m----> 2\u001b[1;33m \u001b[0mmovies_df\u001b[0m\u001b[1;33m.\u001b[0m\u001b[0mnunique\u001b[0m\u001b[1;33m(\u001b[0m\u001b[1;33m)\u001b[0m\u001b[1;33m\u001b[0m\u001b[0m\n\u001b[0m",
      "\u001b[1;32mC:\\Users\\manal\\Anaconda3\\envs\\dsmlai\\lib\\site-packages\\pandas\\core\\generic.py\u001b[0m in \u001b[0;36m__getattr__\u001b[1;34m(self, name)\u001b[0m\n\u001b[0;32m   2742\u001b[0m             \u001b[1;32mif\u001b[0m \u001b[0mname\u001b[0m \u001b[1;32min\u001b[0m \u001b[0mself\u001b[0m\u001b[1;33m.\u001b[0m\u001b[0m_info_axis\u001b[0m\u001b[1;33m:\u001b[0m\u001b[1;33m\u001b[0m\u001b[0m\n\u001b[0;32m   2743\u001b[0m                 \u001b[1;32mreturn\u001b[0m \u001b[0mself\u001b[0m\u001b[1;33m[\u001b[0m\u001b[0mname\u001b[0m\u001b[1;33m]\u001b[0m\u001b[1;33m\u001b[0m\u001b[0m\n\u001b[1;32m-> 2744\u001b[1;33m             \u001b[1;32mreturn\u001b[0m \u001b[0mobject\u001b[0m\u001b[1;33m.\u001b[0m\u001b[0m__getattribute__\u001b[0m\u001b[1;33m(\u001b[0m\u001b[0mself\u001b[0m\u001b[1;33m,\u001b[0m \u001b[0mname\u001b[0m\u001b[1;33m)\u001b[0m\u001b[1;33m\u001b[0m\u001b[0m\n\u001b[0m\u001b[0;32m   2745\u001b[0m \u001b[1;33m\u001b[0m\u001b[0m\n\u001b[0;32m   2746\u001b[0m     \u001b[1;32mdef\u001b[0m \u001b[0m__setattr__\u001b[0m\u001b[1;33m(\u001b[0m\u001b[0mself\u001b[0m\u001b[1;33m,\u001b[0m \u001b[0mname\u001b[0m\u001b[1;33m,\u001b[0m \u001b[0mvalue\u001b[0m\u001b[1;33m)\u001b[0m\u001b[1;33m:\u001b[0m\u001b[1;33m\u001b[0m\u001b[0m\n",
      "\u001b[1;31mAttributeError\u001b[0m: 'DataFrame' object has no attribute 'nunique'"
     ]
    }
   ],
   "source": [
    "# Returns the number of unique values in each column\n",
    "movies_df.nunique()         "
   ]
  },
  {
   "cell_type": "code",
   "execution_count": 7,
   "metadata": {},
   "outputs": [
    {
     "data": {
      "text/plain": [
       "original_title\n",
       "Hamlet                  4\n",
       "Hercules                3\n",
       "Shelter                 3\n",
       "Emma                    3\n",
       "Wuthering Heights       3\n",
       "Beauty and the Beast    3\n",
       "Jane Eyre               3\n",
       "Life                    3\n",
       "Alice in Wonderland     3\n",
       "Oliver Twist            3\n",
       "Frankenstein            3\n",
       "The Black Hole          3\n",
       "Annie                   3\n",
       "A Christmas Carol       3\n",
       "The Three Musketeers    3\n",
       "Julia                   3\n",
       "Carrie                  3\n",
       "Spartacus               2\n",
       "Anna Karenina           2\n",
       "Crossroads              2\n",
       "Twilight                2\n",
       "The Great Gatsby        2\n",
       "Unknown                 2\n",
       "Fright Night            2\n",
       "Game of Death           2\n",
       "dtype: int64"
      ]
     },
     "execution_count": 7,
     "metadata": {},
     "output_type": "execute_result"
    }
   ],
   "source": [
    "# Grouped by Title, To find how many duplicated movies Title are in the dataset\n",
    "movies_df.groupby('original_title').size().sort_values(ascending=False)[:25] "
   ]
  },
  {
   "cell_type": "code",
   "execution_count": 8,
   "metadata": {},
   "outputs": [
    {
     "data": {
      "text/html": [
       "<div>\n",
       "<table border=\"1\" class=\"dataframe\">\n",
       "  <thead>\n",
       "    <tr style=\"text-align: right;\">\n",
       "      <th></th>\n",
       "      <th>id</th>\n",
       "      <th>popularity</th>\n",
       "      <th>budget</th>\n",
       "      <th>revenue</th>\n",
       "      <th>runtime</th>\n",
       "      <th>vote_count</th>\n",
       "      <th>vote_average</th>\n",
       "      <th>release_year</th>\n",
       "      <th>budget_adj</th>\n",
       "      <th>revenue_adj</th>\n",
       "    </tr>\n",
       "  </thead>\n",
       "  <tbody>\n",
       "    <tr>\n",
       "      <th>count</th>\n",
       "      <td>10866.000000</td>\n",
       "      <td>10866.000000</td>\n",
       "      <td>1.086600e+04</td>\n",
       "      <td>1.086600e+04</td>\n",
       "      <td>10866.000000</td>\n",
       "      <td>10866.000000</td>\n",
       "      <td>10866.000000</td>\n",
       "      <td>10866.000000</td>\n",
       "      <td>1.086600e+04</td>\n",
       "      <td>1.086600e+04</td>\n",
       "    </tr>\n",
       "    <tr>\n",
       "      <th>mean</th>\n",
       "      <td>66064.177434</td>\n",
       "      <td>0.646441</td>\n",
       "      <td>1.462570e+07</td>\n",
       "      <td>3.982332e+07</td>\n",
       "      <td>102.070863</td>\n",
       "      <td>217.389748</td>\n",
       "      <td>5.974922</td>\n",
       "      <td>2001.322658</td>\n",
       "      <td>1.755104e+07</td>\n",
       "      <td>5.136436e+07</td>\n",
       "    </tr>\n",
       "    <tr>\n",
       "      <th>std</th>\n",
       "      <td>92130.136561</td>\n",
       "      <td>1.000185</td>\n",
       "      <td>3.091321e+07</td>\n",
       "      <td>1.170035e+08</td>\n",
       "      <td>31.381405</td>\n",
       "      <td>575.619058</td>\n",
       "      <td>0.935142</td>\n",
       "      <td>12.812941</td>\n",
       "      <td>3.430616e+07</td>\n",
       "      <td>1.446325e+08</td>\n",
       "    </tr>\n",
       "    <tr>\n",
       "      <th>min</th>\n",
       "      <td>5.000000</td>\n",
       "      <td>0.000065</td>\n",
       "      <td>0.000000e+00</td>\n",
       "      <td>0.000000e+00</td>\n",
       "      <td>0.000000</td>\n",
       "      <td>10.000000</td>\n",
       "      <td>1.500000</td>\n",
       "      <td>1960.000000</td>\n",
       "      <td>0.000000e+00</td>\n",
       "      <td>0.000000e+00</td>\n",
       "    </tr>\n",
       "    <tr>\n",
       "      <th>25%</th>\n",
       "      <td>10596.250000</td>\n",
       "      <td>0.207583</td>\n",
       "      <td>0.000000e+00</td>\n",
       "      <td>0.000000e+00</td>\n",
       "      <td>90.000000</td>\n",
       "      <td>17.000000</td>\n",
       "      <td>5.400000</td>\n",
       "      <td>1995.000000</td>\n",
       "      <td>0.000000e+00</td>\n",
       "      <td>0.000000e+00</td>\n",
       "    </tr>\n",
       "    <tr>\n",
       "      <th>50%</th>\n",
       "      <td>20669.000000</td>\n",
       "      <td>0.383856</td>\n",
       "      <td>0.000000e+00</td>\n",
       "      <td>0.000000e+00</td>\n",
       "      <td>99.000000</td>\n",
       "      <td>38.000000</td>\n",
       "      <td>6.000000</td>\n",
       "      <td>2006.000000</td>\n",
       "      <td>0.000000e+00</td>\n",
       "      <td>0.000000e+00</td>\n",
       "    </tr>\n",
       "    <tr>\n",
       "      <th>75%</th>\n",
       "      <td>75610.000000</td>\n",
       "      <td>0.713817</td>\n",
       "      <td>1.500000e+07</td>\n",
       "      <td>2.400000e+07</td>\n",
       "      <td>111.000000</td>\n",
       "      <td>145.750000</td>\n",
       "      <td>6.600000</td>\n",
       "      <td>2011.000000</td>\n",
       "      <td>2.085325e+07</td>\n",
       "      <td>3.369710e+07</td>\n",
       "    </tr>\n",
       "    <tr>\n",
       "      <th>max</th>\n",
       "      <td>417859.000000</td>\n",
       "      <td>32.985763</td>\n",
       "      <td>4.250000e+08</td>\n",
       "      <td>2.781506e+09</td>\n",
       "      <td>900.000000</td>\n",
       "      <td>9767.000000</td>\n",
       "      <td>9.200000</td>\n",
       "      <td>2015.000000</td>\n",
       "      <td>4.250000e+08</td>\n",
       "      <td>2.827124e+09</td>\n",
       "    </tr>\n",
       "  </tbody>\n",
       "</table>\n",
       "</div>"
      ],
      "text/plain": [
       "                  id    popularity        budget       revenue       runtime  \\\n",
       "count   10866.000000  10866.000000  1.086600e+04  1.086600e+04  10866.000000   \n",
       "mean    66064.177434      0.646441  1.462570e+07  3.982332e+07    102.070863   \n",
       "std     92130.136561      1.000185  3.091321e+07  1.170035e+08     31.381405   \n",
       "min         5.000000      0.000065  0.000000e+00  0.000000e+00      0.000000   \n",
       "25%     10596.250000      0.207583  0.000000e+00  0.000000e+00     90.000000   \n",
       "50%     20669.000000      0.383856  0.000000e+00  0.000000e+00     99.000000   \n",
       "75%     75610.000000      0.713817  1.500000e+07  2.400000e+07    111.000000   \n",
       "max    417859.000000     32.985763  4.250000e+08  2.781506e+09    900.000000   \n",
       "\n",
       "         vote_count  vote_average  release_year    budget_adj   revenue_adj  \n",
       "count  10866.000000  10866.000000  10866.000000  1.086600e+04  1.086600e+04  \n",
       "mean     217.389748      5.974922   2001.322658  1.755104e+07  5.136436e+07  \n",
       "std      575.619058      0.935142     12.812941  3.430616e+07  1.446325e+08  \n",
       "min       10.000000      1.500000   1960.000000  0.000000e+00  0.000000e+00  \n",
       "25%       17.000000      5.400000   1995.000000  0.000000e+00  0.000000e+00  \n",
       "50%       38.000000      6.000000   2006.000000  0.000000e+00  0.000000e+00  \n",
       "75%      145.750000      6.600000   2011.000000  2.085325e+07  3.369710e+07  \n",
       "max     9767.000000      9.200000   2015.000000  4.250000e+08  2.827124e+09  "
      ]
     },
     "execution_count": 8,
     "metadata": {},
     "output_type": "execute_result"
    }
   ],
   "source": [
    "# Return useful descriptive statistics for each column of data frame\n",
    "movies_df.describe()  "
   ]
  },
  {
   "cell_type": "code",
   "execution_count": 9,
   "metadata": {},
   "outputs": [
    {
     "data": {
      "text/plain": [
       "5696"
      ]
     },
     "execution_count": 9,
     "metadata": {},
     "output_type": "execute_result"
    }
   ],
   "source": [
    "# Total number of records with zero budget\n",
    "(movies_df['budget']== 0).sum() "
   ]
  },
  {
   "cell_type": "code",
   "execution_count": 10,
   "metadata": {},
   "outputs": [
    {
     "data": {
      "text/plain": [
       "6016"
      ]
     },
     "execution_count": 10,
     "metadata": {},
     "output_type": "execute_result"
    }
   ],
   "source": [
    "# Total number of revenue with zero budget\n",
    "(movies_df['revenue']== 0).sum() "
   ]
  },
  {
   "cell_type": "code",
   "execution_count": 11,
   "metadata": {},
   "outputs": [
    {
     "data": {
      "text/plain": [
       "31"
      ]
     },
     "execution_count": 11,
     "metadata": {},
     "output_type": "execute_result"
    }
   ],
   "source": [
    "# Total number of runtime with zero budget\n",
    "(movies_df['runtime']== 0).sum()  "
   ]
  },
  {
   "cell_type": "code",
   "execution_count": 12,
   "metadata": {},
   "outputs": [
    {
     "data": {
      "text/plain": [
       "Index(['id', 'imdb_id', 'popularity', 'budget', 'revenue', 'original_title',\n",
       "       'cast', 'homepage', 'director', 'tagline', 'keywords', 'overview',\n",
       "       'runtime', 'genres', 'production_companies', 'release_date',\n",
       "       'vote_count', 'vote_average', 'release_year', 'budget_adj',\n",
       "       'revenue_adj'],\n",
       "      dtype='object')"
      ]
     },
     "execution_count": 12,
     "metadata": {},
     "output_type": "execute_result"
    }
   ],
   "source": [
    "# Return a list of the columns' labels\n",
    "movies_df.columns   "
   ]
  },
  {
   "cell_type": "markdown",
   "metadata": {},
   "source": [
    "<a id='dup'></a>\n",
    "### Data Cleaning - Drop duplicated rows"
   ]
  },
  {
   "cell_type": "code",
   "execution_count": 13,
   "metadata": {},
   "outputs": [
    {
     "data": {
      "text/plain": [
       "0"
      ]
     },
     "execution_count": 13,
     "metadata": {},
     "output_type": "execute_result"
    }
   ],
   "source": [
    "# Drop duplicated rows\n",
    "movies_df.drop_duplicates(inplace = True) \n",
    "\n",
    "# Confirm correction by rechecking for duplicates in the data\n",
    "sum(movies_df.duplicated())                    "
   ]
  },
  {
   "cell_type": "code",
   "execution_count": 14,
   "metadata": {},
   "outputs": [
    {
     "data": {
      "text/plain": [
       "(10865, 21)"
      ]
     },
     "execution_count": 14,
     "metadata": {},
     "output_type": "execute_result"
    }
   ],
   "source": [
    "# Return a tuple of the dimensions of the movies dataframe after dropping the duplication\n",
    "movies_df.shape     # Return a tuple of the dimensions of the movies dataframe after dropping the duplication          "
   ]
  },
  {
   "cell_type": "markdown",
   "metadata": {},
   "source": [
    "<a id='null'></a>\n",
    "### Data Cleaning - Solving 0 Values"
   ]
  },
  {
   "cell_type": "code",
   "execution_count": 15,
   "metadata": {},
   "outputs": [
    {
     "name": "stdout",
     "output_type": "stream",
     "text": [
      "102.071790152\n"
     ]
    }
   ],
   "source": [
    "# Get average of runtime\n",
    "print(movies_df['runtime'].mean())  "
   ]
  },
  {
   "cell_type": "code",
   "execution_count": 16,
   "metadata": {},
   "outputs": [
    {
     "data": {
      "text/html": [
       "<div>\n",
       "<table border=\"1\" class=\"dataframe\">\n",
       "  <thead>\n",
       "    <tr style=\"text-align: right;\">\n",
       "      <th></th>\n",
       "      <th>id</th>\n",
       "      <th>popularity</th>\n",
       "      <th>budget</th>\n",
       "      <th>revenue</th>\n",
       "      <th>runtime</th>\n",
       "      <th>vote_count</th>\n",
       "      <th>vote_average</th>\n",
       "      <th>release_year</th>\n",
       "      <th>budget_adj</th>\n",
       "      <th>revenue_adj</th>\n",
       "    </tr>\n",
       "  </thead>\n",
       "  <tbody>\n",
       "    <tr>\n",
       "      <th>count</th>\n",
       "      <td>10865.000000</td>\n",
       "      <td>10865.000000</td>\n",
       "      <td>1.086500e+04</td>\n",
       "      <td>1.086500e+04</td>\n",
       "      <td>10865.000000</td>\n",
       "      <td>10865.000000</td>\n",
       "      <td>10865.000000</td>\n",
       "      <td>10865.000000</td>\n",
       "      <td>1.086500e+04</td>\n",
       "      <td>1.086500e+04</td>\n",
       "    </tr>\n",
       "    <tr>\n",
       "      <th>mean</th>\n",
       "      <td>66066.374413</td>\n",
       "      <td>0.646446</td>\n",
       "      <td>1.462429e+07</td>\n",
       "      <td>3.982690e+07</td>\n",
       "      <td>102.363016</td>\n",
       "      <td>217.399632</td>\n",
       "      <td>5.975012</td>\n",
       "      <td>2001.321859</td>\n",
       "      <td>1.754989e+07</td>\n",
       "      <td>5.136900e+07</td>\n",
       "    </tr>\n",
       "    <tr>\n",
       "      <th>std</th>\n",
       "      <td>92134.091971</td>\n",
       "      <td>1.000231</td>\n",
       "      <td>3.091428e+07</td>\n",
       "      <td>1.170083e+08</td>\n",
       "      <td>30.904043</td>\n",
       "      <td>575.644627</td>\n",
       "      <td>0.935138</td>\n",
       "      <td>12.813260</td>\n",
       "      <td>3.430753e+07</td>\n",
       "      <td>1.446383e+08</td>\n",
       "    </tr>\n",
       "    <tr>\n",
       "      <th>min</th>\n",
       "      <td>5.000000</td>\n",
       "      <td>0.000065</td>\n",
       "      <td>0.000000e+00</td>\n",
       "      <td>0.000000e+00</td>\n",
       "      <td>2.000000</td>\n",
       "      <td>10.000000</td>\n",
       "      <td>1.500000</td>\n",
       "      <td>1960.000000</td>\n",
       "      <td>0.000000e+00</td>\n",
       "      <td>0.000000e+00</td>\n",
       "    </tr>\n",
       "    <tr>\n",
       "      <th>25%</th>\n",
       "      <td>10596.000000</td>\n",
       "      <td>0.207575</td>\n",
       "      <td>0.000000e+00</td>\n",
       "      <td>0.000000e+00</td>\n",
       "      <td>90.000000</td>\n",
       "      <td>17.000000</td>\n",
       "      <td>5.400000</td>\n",
       "      <td>1995.000000</td>\n",
       "      <td>0.000000e+00</td>\n",
       "      <td>0.000000e+00</td>\n",
       "    </tr>\n",
       "    <tr>\n",
       "      <th>50%</th>\n",
       "      <td>20662.000000</td>\n",
       "      <td>0.383831</td>\n",
       "      <td>0.000000e+00</td>\n",
       "      <td>0.000000e+00</td>\n",
       "      <td>99.000000</td>\n",
       "      <td>38.000000</td>\n",
       "      <td>6.000000</td>\n",
       "      <td>2006.000000</td>\n",
       "      <td>0.000000e+00</td>\n",
       "      <td>0.000000e+00</td>\n",
       "    </tr>\n",
       "    <tr>\n",
       "      <th>75%</th>\n",
       "      <td>75612.000000</td>\n",
       "      <td>0.713857</td>\n",
       "      <td>1.500000e+07</td>\n",
       "      <td>2.400000e+07</td>\n",
       "      <td>111.000000</td>\n",
       "      <td>146.000000</td>\n",
       "      <td>6.600000</td>\n",
       "      <td>2011.000000</td>\n",
       "      <td>2.085325e+07</td>\n",
       "      <td>3.370173e+07</td>\n",
       "    </tr>\n",
       "    <tr>\n",
       "      <th>max</th>\n",
       "      <td>417859.000000</td>\n",
       "      <td>32.985763</td>\n",
       "      <td>4.250000e+08</td>\n",
       "      <td>2.781506e+09</td>\n",
       "      <td>900.000000</td>\n",
       "      <td>9767.000000</td>\n",
       "      <td>9.200000</td>\n",
       "      <td>2015.000000</td>\n",
       "      <td>4.250000e+08</td>\n",
       "      <td>2.827124e+09</td>\n",
       "    </tr>\n",
       "  </tbody>\n",
       "</table>\n",
       "</div>"
      ],
      "text/plain": [
       "                  id    popularity        budget       revenue       runtime  \\\n",
       "count   10865.000000  10865.000000  1.086500e+04  1.086500e+04  10865.000000   \n",
       "mean    66066.374413      0.646446  1.462429e+07  3.982690e+07    102.363016   \n",
       "std     92134.091971      1.000231  3.091428e+07  1.170083e+08     30.904043   \n",
       "min         5.000000      0.000065  0.000000e+00  0.000000e+00      2.000000   \n",
       "25%     10596.000000      0.207575  0.000000e+00  0.000000e+00     90.000000   \n",
       "50%     20662.000000      0.383831  0.000000e+00  0.000000e+00     99.000000   \n",
       "75%     75612.000000      0.713857  1.500000e+07  2.400000e+07    111.000000   \n",
       "max    417859.000000     32.985763  4.250000e+08  2.781506e+09    900.000000   \n",
       "\n",
       "         vote_count  vote_average  release_year    budget_adj   revenue_adj  \n",
       "count  10865.000000  10865.000000  10865.000000  1.086500e+04  1.086500e+04  \n",
       "mean     217.399632      5.975012   2001.321859  1.754989e+07  5.136900e+07  \n",
       "std      575.644627      0.935138     12.813260  3.430753e+07  1.446383e+08  \n",
       "min       10.000000      1.500000   1960.000000  0.000000e+00  0.000000e+00  \n",
       "25%       17.000000      5.400000   1995.000000  0.000000e+00  0.000000e+00  \n",
       "50%       38.000000      6.000000   2006.000000  0.000000e+00  0.000000e+00  \n",
       "75%      146.000000      6.600000   2011.000000  2.085325e+07  3.370173e+07  \n",
       "max     9767.000000      9.200000   2015.000000  4.250000e+08  2.827124e+09  "
      ]
     },
     "execution_count": 16,
     "metadata": {},
     "output_type": "execute_result"
    }
   ],
   "source": [
    "# Replace 0 values with mean\n",
    "movies_df['runtime'] = movies_df['runtime'].replace(0, 102.07) \n",
    "\n",
    " # Cofirm the chages \n",
    "movies_df.describe()                  "
   ]
  },
  {
   "cell_type": "markdown",
   "metadata": {},
   "source": [
    "<a id='drop'></a>\n",
    "### Data Cleaning - Drop  extraneous columns"
   ]
  },
  {
   "cell_type": "code",
   "execution_count": 17,
   "metadata": {},
   "outputs": [
    {
     "data": {
      "text/html": [
       "<div>\n",
       "<table border=\"1\" class=\"dataframe\">\n",
       "  <thead>\n",
       "    <tr style=\"text-align: right;\">\n",
       "      <th></th>\n",
       "      <th>id</th>\n",
       "      <th>popularity</th>\n",
       "      <th>original_title</th>\n",
       "      <th>runtime</th>\n",
       "      <th>genres</th>\n",
       "      <th>release_date</th>\n",
       "      <th>vote_count</th>\n",
       "      <th>vote_average</th>\n",
       "      <th>release_year</th>\n",
       "    </tr>\n",
       "  </thead>\n",
       "  <tbody>\n",
       "    <tr>\n",
       "      <th>0</th>\n",
       "      <td>135397</td>\n",
       "      <td>32.985763</td>\n",
       "      <td>Jurassic World</td>\n",
       "      <td>124.0</td>\n",
       "      <td>Action|Adventure|Science Fiction|Thriller</td>\n",
       "      <td>6/9/15</td>\n",
       "      <td>5562</td>\n",
       "      <td>6.5</td>\n",
       "      <td>2015</td>\n",
       "    </tr>\n",
       "  </tbody>\n",
       "</table>\n",
       "</div>"
      ],
      "text/plain": [
       "       id  popularity  original_title  runtime  \\\n",
       "0  135397   32.985763  Jurassic World    124.0   \n",
       "\n",
       "                                      genres release_date  vote_count  \\\n",
       "0  Action|Adventure|Science Fiction|Thriller       6/9/15        5562   \n",
       "\n",
       "   vote_average  release_year  \n",
       "0           6.5          2015  "
      ]
     },
     "execution_count": 17,
     "metadata": {},
     "output_type": "execute_result"
    }
   ],
   "source": [
    "# Drop extraneous columns\n",
    "movies_df.drop(['imdb_id','budget', 'revenue', 'cast', 'homepage', 'director', 'tagline', 'keywords', 'overview', 'production_companies', 'budget_adj', 'revenue_adj'], axis=1, inplace=True)  \n",
    "\n",
    "# Confirm changes\n",
    "movies_df.head(1)        "
   ]
  },
  {
   "cell_type": "code",
   "execution_count": 19,
   "metadata": {},
   "outputs": [
    {
     "data": {
      "text/html": [
       "<div>\n",
       "<table border=\"1\" class=\"dataframe\">\n",
       "  <thead>\n",
       "    <tr style=\"text-align: right;\">\n",
       "      <th></th>\n",
       "      <th>id</th>\n",
       "      <th>original_title</th>\n",
       "      <th>release_date</th>\n",
       "      <th>release_year</th>\n",
       "      <th>popularity</th>\n",
       "      <th>runtime</th>\n",
       "      <th>vote_average</th>\n",
       "      <th>vote_count</th>\n",
       "      <th>genres</th>\n",
       "    </tr>\n",
       "  </thead>\n",
       "  <tbody>\n",
       "    <tr>\n",
       "      <th>0</th>\n",
       "      <td>135397</td>\n",
       "      <td>Jurassic World</td>\n",
       "      <td>6/9/15</td>\n",
       "      <td>2015</td>\n",
       "      <td>32.985763</td>\n",
       "      <td>124.0</td>\n",
       "      <td>6.5</td>\n",
       "      <td>5562</td>\n",
       "      <td>Action|Adventure|Science Fiction|Thriller</td>\n",
       "    </tr>\n",
       "    <tr>\n",
       "      <th>1</th>\n",
       "      <td>76341</td>\n",
       "      <td>Mad Max: Fury Road</td>\n",
       "      <td>5/13/15</td>\n",
       "      <td>2015</td>\n",
       "      <td>28.419936</td>\n",
       "      <td>120.0</td>\n",
       "      <td>7.1</td>\n",
       "      <td>6185</td>\n",
       "      <td>Action|Adventure|Science Fiction|Thriller</td>\n",
       "    </tr>\n",
       "    <tr>\n",
       "      <th>2</th>\n",
       "      <td>262500</td>\n",
       "      <td>Insurgent</td>\n",
       "      <td>3/18/15</td>\n",
       "      <td>2015</td>\n",
       "      <td>13.112507</td>\n",
       "      <td>119.0</td>\n",
       "      <td>6.3</td>\n",
       "      <td>2480</td>\n",
       "      <td>Adventure|Science Fiction|Thriller</td>\n",
       "    </tr>\n",
       "    <tr>\n",
       "      <th>3</th>\n",
       "      <td>140607</td>\n",
       "      <td>Star Wars: The Force Awakens</td>\n",
       "      <td>12/15/15</td>\n",
       "      <td>2015</td>\n",
       "      <td>11.173104</td>\n",
       "      <td>136.0</td>\n",
       "      <td>7.5</td>\n",
       "      <td>5292</td>\n",
       "      <td>Action|Adventure|Science Fiction|Fantasy</td>\n",
       "    </tr>\n",
       "    <tr>\n",
       "      <th>4</th>\n",
       "      <td>168259</td>\n",
       "      <td>Furious 7</td>\n",
       "      <td>4/1/15</td>\n",
       "      <td>2015</td>\n",
       "      <td>9.335014</td>\n",
       "      <td>137.0</td>\n",
       "      <td>7.3</td>\n",
       "      <td>2947</td>\n",
       "      <td>Action|Crime|Thriller</td>\n",
       "    </tr>\n",
       "  </tbody>\n",
       "</table>\n",
       "</div>"
      ],
      "text/plain": [
       "       id                original_title release_date  release_year  \\\n",
       "0  135397                Jurassic World       6/9/15          2015   \n",
       "1   76341            Mad Max: Fury Road      5/13/15          2015   \n",
       "2  262500                     Insurgent      3/18/15          2015   \n",
       "3  140607  Star Wars: The Force Awakens     12/15/15          2015   \n",
       "4  168259                     Furious 7       4/1/15          2015   \n",
       "\n",
       "   popularity  runtime  vote_average  vote_count  \\\n",
       "0   32.985763    124.0           6.5        5562   \n",
       "1   28.419936    120.0           7.1        6185   \n",
       "2   13.112507    119.0           6.3        2480   \n",
       "3   11.173104    136.0           7.5        5292   \n",
       "4    9.335014    137.0           7.3        2947   \n",
       "\n",
       "                                      genres  \n",
       "0  Action|Adventure|Science Fiction|Thriller  \n",
       "1  Action|Adventure|Science Fiction|Thriller  \n",
       "2         Adventure|Science Fiction|Thriller  \n",
       "3   Action|Adventure|Science Fiction|Fantasy  \n",
       "4                      Action|Crime|Thriller  "
      ]
     },
     "execution_count": 19,
     "metadata": {},
     "output_type": "execute_result"
    }
   ],
   "source": [
    "# Create a new list to reorder the columns in movies dataframe\n",
    "new_cols = ['id','original_title','release_date','release_year','popularity','runtime','vote_average','vote_count','genres']\n",
    "\n",
    "movies_df= movies_df[new_cols] \n",
    "\n",
    "# confirm changes\n",
    "movies_df.head()         "
   ]
  },
  {
   "cell_type": "markdown",
   "metadata": {},
   "source": [
    "<a id='data'></a>\n",
    "### Data Cleaning - Change Data Type"
   ]
  },
  {
   "cell_type": "code",
   "execution_count": 19,
   "metadata": {
    "scrolled": true
   },
   "outputs": [
    {
     "data": {
      "text/plain": [
       "id                         int64\n",
       "original_title            object\n",
       "release_date      datetime64[ns]\n",
       "release_year               int64\n",
       "popularity               float64\n",
       "runtime                  float64\n",
       "vote_average             float64\n",
       "vote_count                 int64\n",
       "genres                    object\n",
       "dtype: object"
      ]
     },
     "execution_count": 19,
     "metadata": {},
     "output_type": "execute_result"
    }
   ],
   "source": [
    "# Change the data type of release date from Integar to date format\n",
    "movies_df['release_date'] = pd.to_datetime(movies_df['release_date']) \n",
    "\n",
    "# Confirm changes\n",
    "movies_df.dtypes "
   ]
  },
  {
   "cell_type": "code",
   "execution_count": 21,
   "metadata": {},
   "outputs": [
    {
     "data": {
      "text/html": [
       "<div>\n",
       "<table border=\"1\" class=\"dataframe\">\n",
       "  <thead>\n",
       "    <tr style=\"text-align: right;\">\n",
       "      <th></th>\n",
       "      <th>id</th>\n",
       "      <th>original_title</th>\n",
       "      <th>release_date</th>\n",
       "      <th>release_year</th>\n",
       "      <th>popularity</th>\n",
       "      <th>runtime</th>\n",
       "      <th>vote_average</th>\n",
       "      <th>vote_count</th>\n",
       "      <th>genres</th>\n",
       "    </tr>\n",
       "  </thead>\n",
       "  <tbody>\n",
       "    <tr>\n",
       "      <th>0</th>\n",
       "      <td>135397</td>\n",
       "      <td>Jurassic World</td>\n",
       "      <td>6/9/15</td>\n",
       "      <td>2015</td>\n",
       "      <td>32.985763</td>\n",
       "      <td>124.0</td>\n",
       "      <td>6.5</td>\n",
       "      <td>5562</td>\n",
       "      <td>Action|Adventure|Science Fiction|Thriller</td>\n",
       "    </tr>\n",
       "    <tr>\n",
       "      <th>1</th>\n",
       "      <td>76341</td>\n",
       "      <td>Mad Max: Fury Road</td>\n",
       "      <td>5/13/15</td>\n",
       "      <td>2015</td>\n",
       "      <td>28.419936</td>\n",
       "      <td>120.0</td>\n",
       "      <td>7.1</td>\n",
       "      <td>6185</td>\n",
       "      <td>Action|Adventure|Science Fiction|Thriller</td>\n",
       "    </tr>\n",
       "  </tbody>\n",
       "</table>\n",
       "</div>"
      ],
      "text/plain": [
       "       id      original_title release_date  release_year  popularity  runtime  \\\n",
       "0  135397      Jurassic World       6/9/15          2015   32.985763    124.0   \n",
       "1   76341  Mad Max: Fury Road      5/13/15          2015   28.419936    120.0   \n",
       "\n",
       "   vote_average  vote_count                                     genres  \n",
       "0           6.5        5562  Action|Adventure|Science Fiction|Thriller  \n",
       "1           7.1        6185  Action|Adventure|Science Fiction|Thriller  "
      ]
     },
     "execution_count": 21,
     "metadata": {},
     "output_type": "execute_result"
    }
   ],
   "source": [
    "# Make a copy of the dataframe after cleaning the data\n",
    "movies_df_clean = movies_df.copy() \n",
    "\n",
    "# Print out a few lines to Confirm changes\n",
    "movies_df_clean.head(2)"
   ]
  },
  {
   "cell_type": "markdown",
   "metadata": {},
   "source": [
    "<a id='eda'></a>\n",
    "## Exploratory Data Analysis"
   ]
  },
  {
   "cell_type": "code",
   "execution_count": 22,
   "metadata": {},
   "outputs": [
    {
     "data": {
      "image/png": "[encoded data removed]",
      "text/plain": [
       "<matplotlib.figure.Figure at 0x9339390>"
      ]
     },
     "metadata": {},
     "output_type": "display_data"
    }
   ],
   "source": [
    "# Explore how the histogram of all numerical data look like!!\n",
    "movies_df_clean.hist(figsize=(15,15));   "
   ]
  },
  {
   "cell_type": "markdown",
   "metadata": {},
   "source": [
    "<a id='cen'></a>\n",
    "### Movies numbers trend over two centuries"
   ]
  },
  {
   "cell_type": "code",
   "execution_count": 25,
   "metadata": {},
   "outputs": [],
   "source": [
    "# Split the dataset into 2: one for last century and the other for this century\n",
    "# Select the movies produced last century\n",
    "century_20 = movies_df_clean[movies_df_clean['release_year']< 2000]  \n",
    "\n",
    " # Select the movies produced since 2000 and above\n",
    "century_21 = movies_df_clean[movies_df_clean['release_year']>= 2000]        "
   ]
  },
  {
   "cell_type": "code",
   "execution_count": 26,
   "metadata": {},
   "outputs": [
    {
     "data": {
      "image/png": "[encoded data removed]",
      "text/plain": [
       "<matplotlib.figure.Figure at 0x9b28fd0>"
      ]
     },
     "metadata": {},
     "output_type": "display_data"
    }
   ],
   "source": [
    "# Select the total number of movies grouped by year for 20s century, and  show the result in a line plot\n",
    "century_20.groupby('release_year').count().original_title.plot(kind='line',figsize=(8,8))\n",
    "plt.xlabel('Released Year')\n",
    "plt.ylabel('No of Movies')\n",
    "plt.title('Movies numbers trend in the 20th Century');\n"
   ]
  },
  {
   "cell_type": "markdown",
   "metadata": {},
   "source": [
    "> We can see from the above line plot that movies numbers trend was rising every year in the last century. The minimum is in 1960 and 1968. In 1980 the movies numbers starts to increase. That is due to satallite and then Inernet techjnology, that affects also the increasing of the movies numbers by the end of last century, Which is still ongoing."
   ]
  },
  {
   "cell_type": "code",
   "execution_count": 27,
   "metadata": {},
   "outputs": [
    {
     "data": {
      "image/png": "[encoded data removed]",
      "text/plain": [
       "<matplotlib.figure.Figure at 0x966fa90>"
      ]
     },
     "metadata": {},
     "output_type": "display_data"
    }
   ],
   "source": [
    "#Select the total number of movies grouped by year for twenty first century, and  show the result in a line plot\n",
    "century_21.groupby('release_year').count().original_title.plot(kind='line',figsize=(8,8))\n",
    "plt.xlabel('Released Year')\n",
    "plt.ylabel('No of Movies')\n",
    "plt.title('Movies numbers trend in the 21th Century');"
   ]
  },
  {
   "cell_type": "markdown",
   "metadata": {},
   "source": [
    "> In this century, there is very strong increase in the number of movies produced. In 2010 there is obvious declined, then the number increased pointedly. This increase is due to the advanced filmmaking technology, which makes the film industry easier and faster. "
   ]
  },
  {
   "cell_type": "code",
   "execution_count": 25,
   "metadata": {},
   "outputs": [
    {
     "data": {
      "image/png": "[encoded data removed]",
      "text/plain": [
       "<Figure size 1152x576 with 1 Axes>"
      ]
     },
     "metadata": {
      "needs_background": "light"
     },
     "output_type": "display_data"
    }
   ],
   "source": [
    "# create a bar chart for the total number of movies grouped by year\n",
    "\n",
    "movies_df_clean.groupby('release_year').count().original_title.plot(kind='bar', alpha=0.9,figsize=(16,8))\n",
    "plt.xlabel('Release Year')\n",
    "plt.ylabel('Frequency')\n",
    "plt.title('Movies numbers trend over two centuries');"
   ]
  },
  {
   "cell_type": "code",
   "execution_count": 28,
   "metadata": {},
   "outputs": [
    {
     "name": "stdout",
     "output_type": "stream",
     "text": [
      "Total nummber of movies in 20 century are: 3698\n",
      "Total nummber of movies in 21 century are: 7167\n"
     ]
    }
   ],
   "source": [
    "# Select the movies produced last century\n",
    "century_20_sum = century_20.count().original_title\n",
    "# Select the movies produced since 2000 and above\n",
    "century_21_sum = century_21.count().original_title \n",
    "print(\"Total nummber of movies in 20 century are: \" + str(century_20_sum))\n",
    "print(\"Total nummber of movies in 21 century are: \" + str(century_21_sum))"
   ]
  },
  {
   "cell_type": "markdown",
   "metadata": {},
   "source": [
    "<a id='pop'></a>\n",
    "### Movie Popularity trend over the years"
   ]
  },
  {
   "cell_type": "code",
   "execution_count": 27,
   "metadata": {},
   "outputs": [
    {
     "data": {
      "image/png": "[encoded data removed]",
      "text/plain": [
       "<Figure size 576x576 with 1 Axes>"
      ]
     },
     "metadata": {
      "needs_background": "light"
     },
     "output_type": "display_data"
    }
   ],
   "source": [
    "movies_df_clean.groupby('release_year').popularity.mean().plot(kind='line',figsize=(8,8))\n",
    "plt.title('Movie Popularity trend over the years');"
   ]
  },
  {
   "cell_type": "markdown",
   "metadata": {},
   "source": [
    "> We can see from the above line plot that the trend of popularity mean is rising every year. The minimum is in 1965 and the peak is in 2015. On average, movies popularity over years is going up in recent years. The trend is reasonable due to the easily access of movie information nowadays. In the Internet age, people can easily search and gather movie information, visit various movie introduction pages, rate movies, even watching the content through different sources. This is probably what affects how popular a movie can be. "
   ]
  },
  {
   "cell_type": "markdown",
   "metadata": {},
   "source": [
    "<a id='rat'></a>\n",
    "### Analysing Rating"
   ]
  },
  {
   "cell_type": "markdown",
   "metadata": {},
   "source": [
    "#### Relationship between release year and vote average"
   ]
  },
  {
   "cell_type": "code",
   "execution_count": 28,
   "metadata": {
    "scrolled": true
   },
   "outputs": [
    {
     "data": {
      "image/png": "[encoded data removed]",
      "text/plain": [
       "<Figure size 720x360 with 1 Axes>"
      ]
     },
     "metadata": {
      "needs_background": "light"
     },
     "output_type": "display_data"
    }
   ],
   "source": [
    "movies_df_clean.plot(x = 'release_year', y = 'vote_average',kind='scatter',figsize=(10,5))  # NOT SURE \n",
    "plt.title('Ratings vs. Release Year');"
   ]
  },
  {
   "cell_type": "markdown",
   "metadata": {},
   "source": [
    "> During the 1960s technology was not as advanced as it is right now. At that time, the only way to rate a movies was using paper. The increase of rating average started in the 1980s which is also reasonable, due to the beginnning of the advanced technology making it easier to rate  movies."
   ]
  },
  {
   "cell_type": "markdown",
   "metadata": {},
   "source": [
    "#### The Movies Vote level "
   ]
  },
  {
   "cell_type": "code",
   "execution_count": 29,
   "metadata": {},
   "outputs": [
    {
     "data": {
      "text/plain": [
       "count    10865.000000\n",
       "mean         5.975012\n",
       "std          0.935138\n",
       "min          1.500000\n",
       "25%          5.400000\n",
       "50%          6.000000\n",
       "75%          6.600000\n",
       "max          9.200000\n",
       "Name: vote_average, dtype: float64"
      ]
     },
     "execution_count": 29,
     "metadata": {},
     "output_type": "execute_result"
    }
   ],
   "source": [
    "movies_df_clean.describe().vote_average"
   ]
  },
  {
   "cell_type": "code",
   "execution_count": 30,
   "metadata": {
    "collapsed": true
   },
   "outputs": [],
   "source": [
    "#cut the data into groups\n",
    "bin_edges = [1.5, 5.4, 6.0, 6.6, 9.2]       "
   ]
  },
  {
   "cell_type": "code",
   "execution_count": 31,
   "metadata": {
    "collapsed": true
   },
   "outputs": [],
   "source": [
    "# Name each acidity level category\n",
    "bin_names = ['poor', 'low', 'Medium', 'high'] "
   ]
  },
  {
   "cell_type": "code",
   "execution_count": 32,
   "metadata": {
    "collapsed": true
   },
   "outputs": [],
   "source": [
    "\n",
    "movies_df_clean['vote_level'] = pd.cut(movies_df_clean['vote_average'], bin_edges, labels=bin_names)"
   ]
  },
  {
   "cell_type": "code",
   "execution_count": 33,
   "metadata": {
    "collapsed": true
   },
   "outputs": [],
   "source": [
    "\n",
    "movies_df_clean['vote_level'] = pd.cut(movies_df_clean['vote_average'], bin_edges, labels=bin_names)"
   ]
  },
  {
   "cell_type": "code",
   "execution_count": 34,
   "metadata": {},
   "outputs": [
    {
     "data": {
      "image/png": "[encoded data removed]",
      "text/plain": [
       "<Figure size 576x576 with 1 Axes>"
      ]
     },
     "metadata": {},
     "output_type": "display_data"
    }
   ],
   "source": [
    "\n",
    "movies_df_clean.groupby('vote_level').vote_average.mean().plot(kind='pie',figsize=(8,8));"
   ]
  },
  {
   "cell_type": "markdown",
   "metadata": {},
   "source": [
    "> We can see from this pie chart, that most movies have either high or medium vote averge. I think the production companied meet the audience wishes, with producing differt movies genres among various ages."
   ]
  },
  {
   "cell_type": "code",
   "execution_count": 35,
   "metadata": {},
   "outputs": [
    {
     "data": {
      "text/html": [
       "<div>\n",
       "<style scoped>\n",
       "    .dataframe tbody tr th:only-of-type {\n",
       "        vertical-align: middle;\n",
       "    }\n",
       "\n",
       "    .dataframe tbody tr th {\n",
       "        vertical-align: top;\n",
       "    }\n",
       "\n",
       "    .dataframe thead th {\n",
       "        text-align: right;\n",
       "    }\n",
       "</style>\n",
       "<table border=\"1\" class=\"dataframe\">\n",
       "  <thead>\n",
       "    <tr style=\"text-align: right;\">\n",
       "      <th></th>\n",
       "      <th>id</th>\n",
       "      <th>original_title</th>\n",
       "      <th>release_date</th>\n",
       "      <th>release_year</th>\n",
       "      <th>popularity</th>\n",
       "      <th>runtime</th>\n",
       "      <th>vote_average</th>\n",
       "      <th>vote_count</th>\n",
       "      <th>genres</th>\n",
       "      <th>vote_level</th>\n",
       "    </tr>\n",
       "  </thead>\n",
       "  <tbody>\n",
       "    <tr>\n",
       "      <th>0</th>\n",
       "      <td>135397</td>\n",
       "      <td>Jurassic World</td>\n",
       "      <td>2015-06-09</td>\n",
       "      <td>2015</td>\n",
       "      <td>32.985763</td>\n",
       "      <td>124.0</td>\n",
       "      <td>6.5</td>\n",
       "      <td>5562</td>\n",
       "      <td>Action|Adventure|Science Fiction|Thriller</td>\n",
       "      <td>Medium</td>\n",
       "    </tr>\n",
       "  </tbody>\n",
       "</table>\n",
       "</div>"
      ],
      "text/plain": [
       "       id  original_title release_date  release_year  popularity  runtime  \\\n",
       "0  135397  Jurassic World   2015-06-09          2015   32.985763    124.0   \n",
       "\n",
       "   vote_average  vote_count                                     genres  \\\n",
       "0           6.5        5562  Action|Adventure|Science Fiction|Thriller   \n",
       "\n",
       "  vote_level  \n",
       "0     Medium  "
      ]
     },
     "execution_count": 35,
     "metadata": {},
     "output_type": "execute_result"
    }
   ],
   "source": [
    "movies_df_vote_level = movies_df_clean.copy()\n",
    "movies_df_vote_level.head(1)"
   ]
  },
  {
   "cell_type": "markdown",
   "metadata": {},
   "source": [
    " ####  The 25 best rated movies?"
   ]
  },
  {
   "cell_type": "code",
   "execution_count": 36,
   "metadata": {},
   "outputs": [
    {
     "data": {
      "text/html": [
       "<div>\n",
       "<style scoped>\n",
       "    .dataframe tbody tr th:only-of-type {\n",
       "        vertical-align: middle;\n",
       "    }\n",
       "\n",
       "    .dataframe tbody tr th {\n",
       "        vertical-align: top;\n",
       "    }\n",
       "\n",
       "    .dataframe thead th {\n",
       "        text-align: right;\n",
       "    }\n",
       "</style>\n",
       "<table border=\"1\" class=\"dataframe\">\n",
       "  <thead>\n",
       "    <tr style=\"text-align: right;\">\n",
       "      <th></th>\n",
       "      <th>id</th>\n",
       "      <th>original_title</th>\n",
       "      <th>release_date</th>\n",
       "      <th>release_year</th>\n",
       "      <th>popularity</th>\n",
       "      <th>runtime</th>\n",
       "      <th>vote_average</th>\n",
       "      <th>vote_count</th>\n",
       "      <th>genres</th>\n",
       "      <th>vote_level</th>\n",
       "    </tr>\n",
       "  </thead>\n",
       "  <tbody>\n",
       "    <tr>\n",
       "      <th>3894</th>\n",
       "      <td>125336</td>\n",
       "      <td>The Story of Film: An Odyssey</td>\n",
       "      <td>2011-09-03</td>\n",
       "      <td>2011</td>\n",
       "      <td>0.006925</td>\n",
       "      <td>900.0</td>\n",
       "      <td>9.2</td>\n",
       "      <td>14</td>\n",
       "      <td>Documentary</td>\n",
       "      <td>high</td>\n",
       "    </tr>\n",
       "    <tr>\n",
       "      <th>538</th>\n",
       "      <td>224972</td>\n",
       "      <td>The Mask You Live In</td>\n",
       "      <td>2015-01-01</td>\n",
       "      <td>2015</td>\n",
       "      <td>0.114264</td>\n",
       "      <td>88.0</td>\n",
       "      <td>8.9</td>\n",
       "      <td>11</td>\n",
       "      <td>Documentary</td>\n",
       "      <td>high</td>\n",
       "    </tr>\n",
       "    <tr>\n",
       "      <th>1200</th>\n",
       "      <td>374430</td>\n",
       "      <td>Black Mirror: White Christmas</td>\n",
       "      <td>2014-12-16</td>\n",
       "      <td>2014</td>\n",
       "      <td>0.129531</td>\n",
       "      <td>74.0</td>\n",
       "      <td>8.8</td>\n",
       "      <td>41</td>\n",
       "      <td>Drama|Horror|Mystery|Science Fiction|Thriller</td>\n",
       "      <td>high</td>\n",
       "    </tr>\n",
       "    <tr>\n",
       "      <th>2269</th>\n",
       "      <td>51299</td>\n",
       "      <td>Life Cycles</td>\n",
       "      <td>2010-10-02</td>\n",
       "      <td>2010</td>\n",
       "      <td>0.222293</td>\n",
       "      <td>47.0</td>\n",
       "      <td>8.8</td>\n",
       "      <td>27</td>\n",
       "      <td>Documentary</td>\n",
       "      <td>high</td>\n",
       "    </tr>\n",
       "    <tr>\n",
       "      <th>6911</th>\n",
       "      <td>24970</td>\n",
       "      <td>Pink Floyd: Pulse</td>\n",
       "      <td>2006-07-09</td>\n",
       "      <td>2006</td>\n",
       "      <td>0.212010</td>\n",
       "      <td>145.0</td>\n",
       "      <td>8.7</td>\n",
       "      <td>23</td>\n",
       "      <td>Music</td>\n",
       "      <td>high</td>\n",
       "    </tr>\n",
       "    <tr>\n",
       "      <th>2401</th>\n",
       "      <td>45644</td>\n",
       "      <td>Opeth: In Live Concert At The Royal Albert Hall</td>\n",
       "      <td>2010-09-21</td>\n",
       "      <td>2010</td>\n",
       "      <td>0.067753</td>\n",
       "      <td>163.0</td>\n",
       "      <td>8.6</td>\n",
       "      <td>10</td>\n",
       "      <td>Music</td>\n",
       "      <td>high</td>\n",
       "    </tr>\n",
       "    <tr>\n",
       "      <th>3224</th>\n",
       "      <td>20313</td>\n",
       "      <td>John Mayer: Where the Light Is Live in Los Ang...</td>\n",
       "      <td>2008-07-01</td>\n",
       "      <td>2008</td>\n",
       "      <td>0.224721</td>\n",
       "      <td>164.0</td>\n",
       "      <td>8.5</td>\n",
       "      <td>16</td>\n",
       "      <td>Music</td>\n",
       "      <td>high</td>\n",
       "    </tr>\n",
       "    <tr>\n",
       "      <th>3690</th>\n",
       "      <td>68450</td>\n",
       "      <td>The Art of Flight</td>\n",
       "      <td>2011-09-08</td>\n",
       "      <td>2011</td>\n",
       "      <td>0.321341</td>\n",
       "      <td>80.0</td>\n",
       "      <td>8.5</td>\n",
       "      <td>60</td>\n",
       "      <td>Adventure|Documentary</td>\n",
       "      <td>high</td>\n",
       "    </tr>\n",
       "    <tr>\n",
       "      <th>5830</th>\n",
       "      <td>282848</td>\n",
       "      <td>Doctor Who: The Time of the Doctor</td>\n",
       "      <td>2013-12-25</td>\n",
       "      <td>2013</td>\n",
       "      <td>0.248944</td>\n",
       "      <td>60.0</td>\n",
       "      <td>8.5</td>\n",
       "      <td>26</td>\n",
       "      <td>NaN</td>\n",
       "      <td>high</td>\n",
       "    </tr>\n",
       "    <tr>\n",
       "      <th>8221</th>\n",
       "      <td>55676</td>\n",
       "      <td>A Personal Journey with Martin Scorsese Throug...</td>\n",
       "      <td>1995-05-21</td>\n",
       "      <td>1995</td>\n",
       "      <td>0.194889</td>\n",
       "      <td>225.0</td>\n",
       "      <td>8.5</td>\n",
       "      <td>11</td>\n",
       "      <td>Documentary</td>\n",
       "      <td>high</td>\n",
       "    </tr>\n",
       "    <tr>\n",
       "      <th>8411</th>\n",
       "      <td>25093</td>\n",
       "      <td>Queen - Rock Montreal</td>\n",
       "      <td>1981-11-24</td>\n",
       "      <td>1981</td>\n",
       "      <td>0.302908</td>\n",
       "      <td>138.0</td>\n",
       "      <td>8.5</td>\n",
       "      <td>14</td>\n",
       "      <td>Music</td>\n",
       "      <td>high</td>\n",
       "    </tr>\n",
       "    <tr>\n",
       "      <th>8839</th>\n",
       "      <td>16275</td>\n",
       "      <td>Dave Chappelle: Killin' Them Softly</td>\n",
       "      <td>2000-01-01</td>\n",
       "      <td>2000</td>\n",
       "      <td>0.157001</td>\n",
       "      <td>57.0</td>\n",
       "      <td>8.5</td>\n",
       "      <td>17</td>\n",
       "      <td>Comedy</td>\n",
       "      <td>high</td>\n",
       "    </tr>\n",
       "    <tr>\n",
       "      <th>609</th>\n",
       "      <td>321640</td>\n",
       "      <td>The Jinx: The Life and Deaths of Robert Durst</td>\n",
       "      <td>2015-02-08</td>\n",
       "      <td>2015</td>\n",
       "      <td>0.033378</td>\n",
       "      <td>240.0</td>\n",
       "      <td>8.4</td>\n",
       "      <td>72</td>\n",
       "      <td>Documentary</td>\n",
       "      <td>high</td>\n",
       "    </tr>\n",
       "    <tr>\n",
       "      <th>2334</th>\n",
       "      <td>41120</td>\n",
       "      <td>Rush: Beyond the Lighted Stage</td>\n",
       "      <td>2010-06-29</td>\n",
       "      <td>2010</td>\n",
       "      <td>0.145026</td>\n",
       "      <td>107.0</td>\n",
       "      <td>8.4</td>\n",
       "      <td>14</td>\n",
       "      <td>Documentary|Music</td>\n",
       "      <td>high</td>\n",
       "    </tr>\n",
       "    <tr>\n",
       "      <th>2397</th>\n",
       "      <td>241829</td>\n",
       "      <td>The Making of The Walking Dead</td>\n",
       "      <td>2010-07-31</td>\n",
       "      <td>2010</td>\n",
       "      <td>0.033048</td>\n",
       "      <td>30.0</td>\n",
       "      <td>8.4</td>\n",
       "      <td>42</td>\n",
       "      <td>Documentary</td>\n",
       "      <td>high</td>\n",
       "    </tr>\n",
       "    <tr>\n",
       "      <th>3365</th>\n",
       "      <td>22258</td>\n",
       "      <td>Foo Fighters: Live at Wembley Stadium</td>\n",
       "      <td>2008-08-25</td>\n",
       "      <td>2008</td>\n",
       "      <td>0.002475</td>\n",
       "      <td>120.0</td>\n",
       "      <td>8.4</td>\n",
       "      <td>10</td>\n",
       "      <td>Music</td>\n",
       "      <td>high</td>\n",
       "    </tr>\n",
       "    <tr>\n",
       "      <th>4178</th>\n",
       "      <td>278</td>\n",
       "      <td>The Shawshank Redemption</td>\n",
       "      <td>1994-09-10</td>\n",
       "      <td>1994</td>\n",
       "      <td>7.192039</td>\n",
       "      <td>142.0</td>\n",
       "      <td>8.4</td>\n",
       "      <td>5754</td>\n",
       "      <td>Drama|Crime</td>\n",
       "      <td>high</td>\n",
       "    </tr>\n",
       "    <tr>\n",
       "      <th>5923</th>\n",
       "      <td>241287</td>\n",
       "      <td>Tropico</td>\n",
       "      <td>2013-12-05</td>\n",
       "      <td>2013</td>\n",
       "      <td>0.107333</td>\n",
       "      <td>27.0</td>\n",
       "      <td>8.4</td>\n",
       "      <td>24</td>\n",
       "      <td>Music|Drama|Fantasy|Romance</td>\n",
       "      <td>high</td>\n",
       "    </tr>\n",
       "    <tr>\n",
       "      <th>5986</th>\n",
       "      <td>242575</td>\n",
       "      <td>Guten Tag, RamÃ³n</td>\n",
       "      <td>2013-10-18</td>\n",
       "      <td>2013</td>\n",
       "      <td>0.054380</td>\n",
       "      <td>119.0</td>\n",
       "      <td>8.4</td>\n",
       "      <td>11</td>\n",
       "      <td>Drama</td>\n",
       "      <td>high</td>\n",
       "    </tr>\n",
       "    <tr>\n",
       "      <th>7948</th>\n",
       "      <td>24128</td>\n",
       "      <td>Stop Making Sense</td>\n",
       "      <td>1984-11-16</td>\n",
       "      <td>1984</td>\n",
       "      <td>0.283191</td>\n",
       "      <td>88.0</td>\n",
       "      <td>8.4</td>\n",
       "      <td>23</td>\n",
       "      <td>Documentary|Music</td>\n",
       "      <td>high</td>\n",
       "    </tr>\n",
       "    <tr>\n",
       "      <th>8370</th>\n",
       "      <td>34505</td>\n",
       "      <td>Bill Hicks: Relentless</td>\n",
       "      <td>1992-01-01</td>\n",
       "      <td>1992</td>\n",
       "      <td>0.035384</td>\n",
       "      <td>61.0</td>\n",
       "      <td>8.4</td>\n",
       "      <td>10</td>\n",
       "      <td>Comedy</td>\n",
       "      <td>high</td>\n",
       "    </tr>\n",
       "    <tr>\n",
       "      <th>9290</th>\n",
       "      <td>26360</td>\n",
       "      <td>Depeche Mode: 101</td>\n",
       "      <td>1989-04-27</td>\n",
       "      <td>1989</td>\n",
       "      <td>0.260602</td>\n",
       "      <td>117.0</td>\n",
       "      <td>8.4</td>\n",
       "      <td>13</td>\n",
       "      <td>Music</td>\n",
       "      <td>high</td>\n",
       "    </tr>\n",
       "    <tr>\n",
       "      <th>1322</th>\n",
       "      <td>283559</td>\n",
       "      <td>One Direction: Where We Are - The Concert</td>\n",
       "      <td>2014-10-08</td>\n",
       "      <td>2014</td>\n",
       "      <td>0.004853</td>\n",
       "      <td>106.0</td>\n",
       "      <td>8.3</td>\n",
       "      <td>32</td>\n",
       "      <td>Documentary|Music</td>\n",
       "      <td>high</td>\n",
       "    </tr>\n",
       "    <tr>\n",
       "      <th>1864</th>\n",
       "      <td>19105</td>\n",
       "      <td>Iron Maiden: Flight 666</td>\n",
       "      <td>2009-04-21</td>\n",
       "      <td>2009</td>\n",
       "      <td>0.103773</td>\n",
       "      <td>112.0</td>\n",
       "      <td>8.3</td>\n",
       "      <td>28</td>\n",
       "      <td>Documentary|Music</td>\n",
       "      <td>high</td>\n",
       "    </tr>\n",
       "    <tr>\n",
       "      <th>2313</th>\n",
       "      <td>352812</td>\n",
       "      <td>Tick Tock Tale</td>\n",
       "      <td>2010-06-10</td>\n",
       "      <td>2010</td>\n",
       "      <td>0.172275</td>\n",
       "      <td>6.0</td>\n",
       "      <td>8.3</td>\n",
       "      <td>13</td>\n",
       "      <td>Animation</td>\n",
       "      <td>high</td>\n",
       "    </tr>\n",
       "  </tbody>\n",
       "</table>\n",
       "</div>"
      ],
      "text/plain": [
       "          id                                     original_title release_date  \\\n",
       "3894  125336                      The Story of Film: An Odyssey   2011-09-03   \n",
       "538   224972                               The Mask You Live In   2015-01-01   \n",
       "1200  374430                      Black Mirror: White Christmas   2014-12-16   \n",
       "2269   51299                                        Life Cycles   2010-10-02   \n",
       "6911   24970                                  Pink Floyd: Pulse   2006-07-09   \n",
       "2401   45644    Opeth: In Live Concert At The Royal Albert Hall   2010-09-21   \n",
       "3224   20313  John Mayer: Where the Light Is Live in Los Ang...   2008-07-01   \n",
       "3690   68450                                  The Art of Flight   2011-09-08   \n",
       "5830  282848                 Doctor Who: The Time of the Doctor   2013-12-25   \n",
       "8221   55676  A Personal Journey with Martin Scorsese Throug...   1995-05-21   \n",
       "8411   25093                              Queen - Rock Montreal   1981-11-24   \n",
       "8839   16275                Dave Chappelle: Killin' Them Softly   2000-01-01   \n",
       "609   321640      The Jinx: The Life and Deaths of Robert Durst   2015-02-08   \n",
       "2334   41120                     Rush: Beyond the Lighted Stage   2010-06-29   \n",
       "2397  241829                     The Making of The Walking Dead   2010-07-31   \n",
       "3365   22258              Foo Fighters: Live at Wembley Stadium   2008-08-25   \n",
       "4178     278                           The Shawshank Redemption   1994-09-10   \n",
       "5923  241287                                            Tropico   2013-12-05   \n",
       "5986  242575                                  Guten Tag, RamÃ³n   2013-10-18   \n",
       "7948   24128                                  Stop Making Sense   1984-11-16   \n",
       "8370   34505                             Bill Hicks: Relentless   1992-01-01   \n",
       "9290   26360                                  Depeche Mode: 101   1989-04-27   \n",
       "1322  283559          One Direction: Where We Are - The Concert   2014-10-08   \n",
       "1864   19105                            Iron Maiden: Flight 666   2009-04-21   \n",
       "2313  352812                                     Tick Tock Tale   2010-06-10   \n",
       "\n",
       "      release_year  popularity  runtime  vote_average  vote_count  \\\n",
       "3894          2011    0.006925    900.0           9.2          14   \n",
       "538           2015    0.114264     88.0           8.9          11   \n",
       "1200          2014    0.129531     74.0           8.8          41   \n",
       "2269          2010    0.222293     47.0           8.8          27   \n",
       "6911          2006    0.212010    145.0           8.7          23   \n",
       "2401          2010    0.067753    163.0           8.6          10   \n",
       "3224          2008    0.224721    164.0           8.5          16   \n",
       "3690          2011    0.321341     80.0           8.5          60   \n",
       "5830          2013    0.248944     60.0           8.5          26   \n",
       "8221          1995    0.194889    225.0           8.5          11   \n",
       "8411          1981    0.302908    138.0           8.5          14   \n",
       "8839          2000    0.157001     57.0           8.5          17   \n",
       "609           2015    0.033378    240.0           8.4          72   \n",
       "2334          2010    0.145026    107.0           8.4          14   \n",
       "2397          2010    0.033048     30.0           8.4          42   \n",
       "3365          2008    0.002475    120.0           8.4          10   \n",
       "4178          1994    7.192039    142.0           8.4        5754   \n",
       "5923          2013    0.107333     27.0           8.4          24   \n",
       "5986          2013    0.054380    119.0           8.4          11   \n",
       "7948          1984    0.283191     88.0           8.4          23   \n",
       "8370          1992    0.035384     61.0           8.4          10   \n",
       "9290          1989    0.260602    117.0           8.4          13   \n",
       "1322          2014    0.004853    106.0           8.3          32   \n",
       "1864          2009    0.103773    112.0           8.3          28   \n",
       "2313          2010    0.172275      6.0           8.3          13   \n",
       "\n",
       "                                             genres vote_level  \n",
       "3894                                    Documentary       high  \n",
       "538                                     Documentary       high  \n",
       "1200  Drama|Horror|Mystery|Science Fiction|Thriller       high  \n",
       "2269                                    Documentary       high  \n",
       "6911                                          Music       high  \n",
       "2401                                          Music       high  \n",
       "3224                                          Music       high  \n",
       "3690                          Adventure|Documentary       high  \n",
       "5830                                            NaN       high  \n",
       "8221                                    Documentary       high  \n",
       "8411                                          Music       high  \n",
       "8839                                         Comedy       high  \n",
       "609                                     Documentary       high  \n",
       "2334                              Documentary|Music       high  \n",
       "2397                                    Documentary       high  \n",
       "3365                                          Music       high  \n",
       "4178                                    Drama|Crime       high  \n",
       "5923                    Music|Drama|Fantasy|Romance       high  \n",
       "5986                                          Drama       high  \n",
       "7948                              Documentary|Music       high  \n",
       "8370                                         Comedy       high  \n",
       "9290                                          Music       high  \n",
       "1322                              Documentary|Music       high  \n",
       "1864                              Documentary|Music       high  \n",
       "2313                                      Animation       high  "
      ]
     },
     "execution_count": 36,
     "metadata": {},
     "output_type": "execute_result"
    }
   ],
   "source": [
    "# Select Top 25 rated movies. \n",
    "top_25=movies_df_vote_level.nlargest(25, 'vote_average') \n",
    "\n",
    "top_25"
   ]
  },
  {
   "cell_type": "markdown",
   "metadata": {},
   "source": [
    "#### The best 25 rated movies I filtered by years."
   ]
  },
  {
   "cell_type": "code",
   "execution_count": 37,
   "metadata": {},
   "outputs": [
    {
     "data": {
      "image/png": "[encoded data removed]",
      "text/plain": [
       "<Figure size 576x576 with 1 Axes>"
      ]
     },
     "metadata": {
      "needs_background": "light"
     },
     "output_type": "display_data"
    }
   ],
   "source": [
    "#group by year and choose the top 25 high\n",
    "top_25.groupby('release_year').count().original_title.plot(kind='bar',figsize=(8,8))\n",
    "plt.title('top 25 high rating Movies by Year');\n"
   ]
  },
  {
   "cell_type": "markdown",
   "metadata": {},
   "source": [
    "> This bar plot indicates that 2010 is the best year in case of movies quality, inspite of there is a decline in the number os movies produced as showen before. 20% from the best 25 rated movies filtered by years is in 2010. Then comes 2018"
   ]
  },
  {
   "cell_type": "markdown",
   "metadata": {},
   "source": [
    "####  The relationship between runtime and vote average?"
   ]
  },
  {
   "cell_type": "code",
   "execution_count": 38,
   "metadata": {},
   "outputs": [
    {
     "data": {
      "image/png": "[encoded data removed]",
      "text/plain": [
       "<Figure size 864x576 with 1 Axes>"
      ]
     },
     "metadata": {
      "needs_background": "light"
     },
     "output_type": "display_data"
    }
   ],
   "source": [
    "movies_df_vote_level.plot(x = 'vote_average', y = 'runtime',kind='scatter',figsize=(12,8))\n",
    "plt.title('Ratings vs. Runtime');"
   ]
  },
  {
   "cell_type": "markdown",
   "metadata": {},
   "source": [
    "> From this scatter plot, we can draw several conclusions:\n",
    "Short films are likely to have a mid-to-high rating. Movies with a runtime around 100 minutes tend to have an unpredictable rating, as they can run from low to high. Films/shows with a runtime above or below 100 minues tend to have mid-to-high ratings. Tv series and movies with long runtime consistently get higher-than-average\n",
    "ratings"
   ]
  },
  {
   "cell_type": "code",
   "execution_count": 39,
   "metadata": {},
   "outputs": [
    {
     "data": {
      "text/html": [
       "<div>\n",
       "<style scoped>\n",
       "    .dataframe tbody tr th:only-of-type {\n",
       "        vertical-align: middle;\n",
       "    }\n",
       "\n",
       "    .dataframe tbody tr th {\n",
       "        vertical-align: top;\n",
       "    }\n",
       "\n",
       "    .dataframe thead th {\n",
       "        text-align: right;\n",
       "    }\n",
       "</style>\n",
       "<table border=\"1\" class=\"dataframe\">\n",
       "  <thead>\n",
       "    <tr style=\"text-align: right;\">\n",
       "      <th></th>\n",
       "      <th>id</th>\n",
       "      <th>original_title</th>\n",
       "      <th>release_date</th>\n",
       "      <th>release_year</th>\n",
       "      <th>popularity</th>\n",
       "      <th>runtime</th>\n",
       "      <th>vote_average</th>\n",
       "      <th>vote_count</th>\n",
       "      <th>genres</th>\n",
       "      <th>vote_level</th>\n",
       "    </tr>\n",
       "  </thead>\n",
       "  <tbody>\n",
       "    <tr>\n",
       "      <th>3894</th>\n",
       "      <td>125336</td>\n",
       "      <td>The Story of Film: An Odyssey</td>\n",
       "      <td>2011-09-03</td>\n",
       "      <td>2011</td>\n",
       "      <td>0.006925</td>\n",
       "      <td>900.0</td>\n",
       "      <td>9.2</td>\n",
       "      <td>14</td>\n",
       "      <td>Documentary</td>\n",
       "      <td>high</td>\n",
       "    </tr>\n",
       "    <tr>\n",
       "      <th>4041</th>\n",
       "      <td>150004</td>\n",
       "      <td>Taken</td>\n",
       "      <td>2002-12-02</td>\n",
       "      <td>2002</td>\n",
       "      <td>0.469332</td>\n",
       "      <td>877.0</td>\n",
       "      <td>6.8</td>\n",
       "      <td>38</td>\n",
       "      <td>Science Fiction</td>\n",
       "      <td>high</td>\n",
       "    </tr>\n",
       "    <tr>\n",
       "      <th>2722</th>\n",
       "      <td>331214</td>\n",
       "      <td>Band of Brothers</td>\n",
       "      <td>2001-09-09</td>\n",
       "      <td>2001</td>\n",
       "      <td>0.537593</td>\n",
       "      <td>705.0</td>\n",
       "      <td>8.0</td>\n",
       "      <td>313</td>\n",
       "      <td>Action|Drama|War</td>\n",
       "      <td>high</td>\n",
       "    </tr>\n",
       "    <tr>\n",
       "      <th>6176</th>\n",
       "      <td>42044</td>\n",
       "      <td>Shoah</td>\n",
       "      <td>1985-11-01</td>\n",
       "      <td>1985</td>\n",
       "      <td>0.147489</td>\n",
       "      <td>566.0</td>\n",
       "      <td>8.3</td>\n",
       "      <td>16</td>\n",
       "      <td>Documentary</td>\n",
       "      <td>high</td>\n",
       "    </tr>\n",
       "    <tr>\n",
       "      <th>6181</th>\n",
       "      <td>18729</td>\n",
       "      <td>North and South, Book I</td>\n",
       "      <td>1985-11-03</td>\n",
       "      <td>1985</td>\n",
       "      <td>0.000065</td>\n",
       "      <td>561.0</td>\n",
       "      <td>6.0</td>\n",
       "      <td>17</td>\n",
       "      <td>Drama|History|Western</td>\n",
       "      <td>low</td>\n",
       "    </tr>\n",
       "    <tr>\n",
       "      <th>6894</th>\n",
       "      <td>192040</td>\n",
       "      <td>Planet Earth</td>\n",
       "      <td>2006-12-10</td>\n",
       "      <td>2006</td>\n",
       "      <td>0.137913</td>\n",
       "      <td>550.0</td>\n",
       "      <td>7.6</td>\n",
       "      <td>65</td>\n",
       "      <td>Documentary</td>\n",
       "      <td>high</td>\n",
       "    </tr>\n",
       "    <tr>\n",
       "      <th>2214</th>\n",
       "      <td>189197</td>\n",
       "      <td>The Pacific</td>\n",
       "      <td>2010-05-16</td>\n",
       "      <td>2010</td>\n",
       "      <td>0.757082</td>\n",
       "      <td>540.0</td>\n",
       "      <td>7.8</td>\n",
       "      <td>183</td>\n",
       "      <td>War|Drama|Action|Adventure|History</td>\n",
       "      <td>high</td>\n",
       "    </tr>\n",
       "    <tr>\n",
       "      <th>3356</th>\n",
       "      <td>118309</td>\n",
       "      <td>John Adams</td>\n",
       "      <td>2008-03-16</td>\n",
       "      <td>2008</td>\n",
       "      <td>0.136540</td>\n",
       "      <td>501.0</td>\n",
       "      <td>6.6</td>\n",
       "      <td>33</td>\n",
       "      <td>History|Drama</td>\n",
       "      <td>Medium</td>\n",
       "    </tr>\n",
       "    <tr>\n",
       "      <th>1865</th>\n",
       "      <td>220903</td>\n",
       "      <td>Life</td>\n",
       "      <td>2009-12-14</td>\n",
       "      <td>2009</td>\n",
       "      <td>0.102223</td>\n",
       "      <td>500.0</td>\n",
       "      <td>7.0</td>\n",
       "      <td>24</td>\n",
       "      <td>Documentary</td>\n",
       "      <td>high</td>\n",
       "    </tr>\n",
       "    <tr>\n",
       "      <th>3141</th>\n",
       "      <td>54102</td>\n",
       "      <td>Generation Kill</td>\n",
       "      <td>2008-07-13</td>\n",
       "      <td>2008</td>\n",
       "      <td>0.336308</td>\n",
       "      <td>470.0</td>\n",
       "      <td>6.6</td>\n",
       "      <td>28</td>\n",
       "      <td>Drama|War|History</td>\n",
       "      <td>Medium</td>\n",
       "    </tr>\n",
       "  </tbody>\n",
       "</table>\n",
       "</div>"
      ],
      "text/plain": [
       "          id                 original_title release_date  release_year  \\\n",
       "3894  125336  The Story of Film: An Odyssey   2011-09-03          2011   \n",
       "4041  150004                          Taken   2002-12-02          2002   \n",
       "2722  331214               Band of Brothers   2001-09-09          2001   \n",
       "6176   42044                          Shoah   1985-11-01          1985   \n",
       "6181   18729        North and South, Book I   1985-11-03          1985   \n",
       "6894  192040                   Planet Earth   2006-12-10          2006   \n",
       "2214  189197                    The Pacific   2010-05-16          2010   \n",
       "3356  118309                     John Adams   2008-03-16          2008   \n",
       "1865  220903                           Life   2009-12-14          2009   \n",
       "3141   54102                Generation Kill   2008-07-13          2008   \n",
       "\n",
       "      popularity  runtime  vote_average  vote_count  \\\n",
       "3894    0.006925    900.0           9.2          14   \n",
       "4041    0.469332    877.0           6.8          38   \n",
       "2722    0.537593    705.0           8.0         313   \n",
       "6176    0.147489    566.0           8.3          16   \n",
       "6181    0.000065    561.0           6.0          17   \n",
       "6894    0.137913    550.0           7.6          65   \n",
       "2214    0.757082    540.0           7.8         183   \n",
       "3356    0.136540    501.0           6.6          33   \n",
       "1865    0.102223    500.0           7.0          24   \n",
       "3141    0.336308    470.0           6.6          28   \n",
       "\n",
       "                                  genres vote_level  \n",
       "3894                         Documentary       high  \n",
       "4041                     Science Fiction       high  \n",
       "2722                    Action|Drama|War       high  \n",
       "6176                         Documentary       high  \n",
       "6181               Drama|History|Western        low  \n",
       "6894                         Documentary       high  \n",
       "2214  War|Drama|Action|Adventure|History       high  \n",
       "3356                       History|Drama     Medium  \n",
       "1865                         Documentary       high  \n",
       "3141                   Drama|War|History     Medium  "
      ]
     },
     "execution_count": 39,
     "metadata": {},
     "output_type": "execute_result"
    }
   ],
   "source": [
    "top_runtime = movies_df_vote_level.nlargest(10, 'runtime')\n",
    "top_runtime"
   ]
  },
  {
   "cell_type": "code",
   "execution_count": 40,
   "metadata": {},
   "outputs": [
    {
     "data": {
      "text/html": [
       "<div>\n",
       "<style scoped>\n",
       "    .dataframe tbody tr th:only-of-type {\n",
       "        vertical-align: middle;\n",
       "    }\n",
       "\n",
       "    .dataframe tbody tr th {\n",
       "        vertical-align: top;\n",
       "    }\n",
       "\n",
       "    .dataframe thead th {\n",
       "        text-align: right;\n",
       "    }\n",
       "</style>\n",
       "<table border=\"1\" class=\"dataframe\">\n",
       "  <thead>\n",
       "    <tr style=\"text-align: right;\">\n",
       "      <th></th>\n",
       "      <th>id</th>\n",
       "      <th>original_title</th>\n",
       "      <th>release_date</th>\n",
       "      <th>release_year</th>\n",
       "      <th>popularity</th>\n",
       "      <th>runtime</th>\n",
       "      <th>vote_average</th>\n",
       "      <th>vote_count</th>\n",
       "      <th>genres</th>\n",
       "      <th>vote_level</th>\n",
       "    </tr>\n",
       "  </thead>\n",
       "  <tbody>\n",
       "    <tr>\n",
       "      <th>3894</th>\n",
       "      <td>125336</td>\n",
       "      <td>The Story of Film: An Odyssey</td>\n",
       "      <td>2011-09-03</td>\n",
       "      <td>2011</td>\n",
       "      <td>0.006925</td>\n",
       "      <td>900.0</td>\n",
       "      <td>9.2</td>\n",
       "      <td>14</td>\n",
       "      <td>Documentary</td>\n",
       "      <td>high</td>\n",
       "    </tr>\n",
       "    <tr>\n",
       "      <th>538</th>\n",
       "      <td>224972</td>\n",
       "      <td>The Mask You Live In</td>\n",
       "      <td>2015-01-01</td>\n",
       "      <td>2015</td>\n",
       "      <td>0.114264</td>\n",
       "      <td>88.0</td>\n",
       "      <td>8.9</td>\n",
       "      <td>11</td>\n",
       "      <td>Documentary</td>\n",
       "      <td>high</td>\n",
       "    </tr>\n",
       "    <tr>\n",
       "      <th>1200</th>\n",
       "      <td>374430</td>\n",
       "      <td>Black Mirror: White Christmas</td>\n",
       "      <td>2014-12-16</td>\n",
       "      <td>2014</td>\n",
       "      <td>0.129531</td>\n",
       "      <td>74.0</td>\n",
       "      <td>8.8</td>\n",
       "      <td>41</td>\n",
       "      <td>Drama|Horror|Mystery|Science Fiction|Thriller</td>\n",
       "      <td>high</td>\n",
       "    </tr>\n",
       "    <tr>\n",
       "      <th>2269</th>\n",
       "      <td>51299</td>\n",
       "      <td>Life Cycles</td>\n",
       "      <td>2010-10-02</td>\n",
       "      <td>2010</td>\n",
       "      <td>0.222293</td>\n",
       "      <td>47.0</td>\n",
       "      <td>8.8</td>\n",
       "      <td>27</td>\n",
       "      <td>Documentary</td>\n",
       "      <td>high</td>\n",
       "    </tr>\n",
       "    <tr>\n",
       "      <th>6911</th>\n",
       "      <td>24970</td>\n",
       "      <td>Pink Floyd: Pulse</td>\n",
       "      <td>2006-07-09</td>\n",
       "      <td>2006</td>\n",
       "      <td>0.212010</td>\n",
       "      <td>145.0</td>\n",
       "      <td>8.7</td>\n",
       "      <td>23</td>\n",
       "      <td>Music</td>\n",
       "      <td>high</td>\n",
       "    </tr>\n",
       "    <tr>\n",
       "      <th>2401</th>\n",
       "      <td>45644</td>\n",
       "      <td>Opeth: In Live Concert At The Royal Albert Hall</td>\n",
       "      <td>2010-09-21</td>\n",
       "      <td>2010</td>\n",
       "      <td>0.067753</td>\n",
       "      <td>163.0</td>\n",
       "      <td>8.6</td>\n",
       "      <td>10</td>\n",
       "      <td>Music</td>\n",
       "      <td>high</td>\n",
       "    </tr>\n",
       "    <tr>\n",
       "      <th>3224</th>\n",
       "      <td>20313</td>\n",
       "      <td>John Mayer: Where the Light Is Live in Los Ang...</td>\n",
       "      <td>2008-07-01</td>\n",
       "      <td>2008</td>\n",
       "      <td>0.224721</td>\n",
       "      <td>164.0</td>\n",
       "      <td>8.5</td>\n",
       "      <td>16</td>\n",
       "      <td>Music</td>\n",
       "      <td>high</td>\n",
       "    </tr>\n",
       "    <tr>\n",
       "      <th>3690</th>\n",
       "      <td>68450</td>\n",
       "      <td>The Art of Flight</td>\n",
       "      <td>2011-09-08</td>\n",
       "      <td>2011</td>\n",
       "      <td>0.321341</td>\n",
       "      <td>80.0</td>\n",
       "      <td>8.5</td>\n",
       "      <td>60</td>\n",
       "      <td>Adventure|Documentary</td>\n",
       "      <td>high</td>\n",
       "    </tr>\n",
       "    <tr>\n",
       "      <th>5830</th>\n",
       "      <td>282848</td>\n",
       "      <td>Doctor Who: The Time of the Doctor</td>\n",
       "      <td>2013-12-25</td>\n",
       "      <td>2013</td>\n",
       "      <td>0.248944</td>\n",
       "      <td>60.0</td>\n",
       "      <td>8.5</td>\n",
       "      <td>26</td>\n",
       "      <td>NaN</td>\n",
       "      <td>high</td>\n",
       "    </tr>\n",
       "    <tr>\n",
       "      <th>8221</th>\n",
       "      <td>55676</td>\n",
       "      <td>A Personal Journey with Martin Scorsese Throug...</td>\n",
       "      <td>1995-05-21</td>\n",
       "      <td>1995</td>\n",
       "      <td>0.194889</td>\n",
       "      <td>225.0</td>\n",
       "      <td>8.5</td>\n",
       "      <td>11</td>\n",
       "      <td>Documentary</td>\n",
       "      <td>high</td>\n",
       "    </tr>\n",
       "  </tbody>\n",
       "</table>\n",
       "</div>"
      ],
      "text/plain": [
       "          id                                     original_title release_date  \\\n",
       "3894  125336                      The Story of Film: An Odyssey   2011-09-03   \n",
       "538   224972                               The Mask You Live In   2015-01-01   \n",
       "1200  374430                      Black Mirror: White Christmas   2014-12-16   \n",
       "2269   51299                                        Life Cycles   2010-10-02   \n",
       "6911   24970                                  Pink Floyd: Pulse   2006-07-09   \n",
       "2401   45644    Opeth: In Live Concert At The Royal Albert Hall   2010-09-21   \n",
       "3224   20313  John Mayer: Where the Light Is Live in Los Ang...   2008-07-01   \n",
       "3690   68450                                  The Art of Flight   2011-09-08   \n",
       "5830  282848                 Doctor Who: The Time of the Doctor   2013-12-25   \n",
       "8221   55676  A Personal Journey with Martin Scorsese Throug...   1995-05-21   \n",
       "\n",
       "      release_year  popularity  runtime  vote_average  vote_count  \\\n",
       "3894          2011    0.006925    900.0           9.2          14   \n",
       "538           2015    0.114264     88.0           8.9          11   \n",
       "1200          2014    0.129531     74.0           8.8          41   \n",
       "2269          2010    0.222293     47.0           8.8          27   \n",
       "6911          2006    0.212010    145.0           8.7          23   \n",
       "2401          2010    0.067753    163.0           8.6          10   \n",
       "3224          2008    0.224721    164.0           8.5          16   \n",
       "3690          2011    0.321341     80.0           8.5          60   \n",
       "5830          2013    0.248944     60.0           8.5          26   \n",
       "8221          1995    0.194889    225.0           8.5          11   \n",
       "\n",
       "                                             genres vote_level  \n",
       "3894                                    Documentary       high  \n",
       "538                                     Documentary       high  \n",
       "1200  Drama|Horror|Mystery|Science Fiction|Thriller       high  \n",
       "2269                                    Documentary       high  \n",
       "6911                                          Music       high  \n",
       "2401                                          Music       high  \n",
       "3224                                          Music       high  \n",
       "3690                          Adventure|Documentary       high  \n",
       "5830                                            NaN       high  \n",
       "8221                                    Documentary       high  "
      ]
     },
     "execution_count": 40,
     "metadata": {},
     "output_type": "execute_result"
    }
   ],
   "source": [
    "top_vote_average= movies_df_clean.nlargest(10, 'vote_average')\n",
    "top_vote_average"
   ]
  },
  {
   "cell_type": "markdown",
   "metadata": {},
   "source": [
    "<a id='gen'></a>\n",
    "### Analysing Genres"
   ]
  },
  {
   "cell_type": "code",
   "execution_count": 41,
   "metadata": {},
   "outputs": [
    {
     "data": {
      "text/plain": [
       "23"
      ]
     },
     "execution_count": 41,
     "metadata": {},
     "output_type": "execute_result"
    }
   ],
   "source": [
    "movies_df_clean['genres'].isnull().sum() "
   ]
  },
  {
   "cell_type": "code",
   "execution_count": 42,
   "metadata": {},
   "outputs": [
    {
     "data": {
      "text/plain": [
       "0"
      ]
     },
     "execution_count": 42,
     "metadata": {},
     "output_type": "execute_result"
    }
   ],
   "source": [
    "# replace any empty strings in the genres column with np.nan objects\n",
    "movies_df_clean['genres'].replace('', np.nan, inplace=True) \n",
    "\n",
    "\n",
    "movies_df_clean.dropna(subset=['genres'], inplace=True) "
   ]
  },
  {
   "cell_type": "code",
   "execution_count": 43,
   "metadata": {
    "collapsed": true
   },
   "outputs": [],
   "source": [
    "movies_df_genres =movies_df_clean.copy()  "
   ]
  },
  {
   "cell_type": "code",
   "execution_count": 44,
   "metadata": {},
   "outputs": [
    {
     "data": {
      "text/html": [
       "<div>\n",
       "<style scoped>\n",
       "    .dataframe tbody tr th:only-of-type {\n",
       "        vertical-align: middle;\n",
       "    }\n",
       "\n",
       "    .dataframe tbody tr th {\n",
       "        vertical-align: top;\n",
       "    }\n",
       "\n",
       "    .dataframe thead th {\n",
       "        text-align: right;\n",
       "    }\n",
       "</style>\n",
       "<table border=\"1\" class=\"dataframe\">\n",
       "  <thead>\n",
       "    <tr style=\"text-align: right;\">\n",
       "      <th></th>\n",
       "      <th>0</th>\n",
       "      <th>1</th>\n",
       "      <th>2</th>\n",
       "      <th>3</th>\n",
       "      <th>4</th>\n",
       "    </tr>\n",
       "  </thead>\n",
       "  <tbody>\n",
       "    <tr>\n",
       "      <th>0</th>\n",
       "      <td>Action</td>\n",
       "      <td>Adventure</td>\n",
       "      <td>Science Fiction</td>\n",
       "      <td>Thriller</td>\n",
       "      <td>None</td>\n",
       "    </tr>\n",
       "    <tr>\n",
       "      <th>1</th>\n",
       "      <td>Action</td>\n",
       "      <td>Adventure</td>\n",
       "      <td>Science Fiction</td>\n",
       "      <td>Thriller</td>\n",
       "      <td>None</td>\n",
       "    </tr>\n",
       "    <tr>\n",
       "      <th>2</th>\n",
       "      <td>Adventure</td>\n",
       "      <td>Science Fiction</td>\n",
       "      <td>Thriller</td>\n",
       "      <td>None</td>\n",
       "      <td>None</td>\n",
       "    </tr>\n",
       "    <tr>\n",
       "      <th>3</th>\n",
       "      <td>Action</td>\n",
       "      <td>Adventure</td>\n",
       "      <td>Science Fiction</td>\n",
       "      <td>Fantasy</td>\n",
       "      <td>None</td>\n",
       "    </tr>\n",
       "    <tr>\n",
       "      <th>4</th>\n",
       "      <td>Action</td>\n",
       "      <td>Crime</td>\n",
       "      <td>Thriller</td>\n",
       "      <td>None</td>\n",
       "      <td>None</td>\n",
       "    </tr>\n",
       "  </tbody>\n",
       "</table>\n",
       "</div>"
      ],
      "text/plain": [
       "           0                1                2         3     4\n",
       "0     Action        Adventure  Science Fiction  Thriller  None\n",
       "1     Action        Adventure  Science Fiction  Thriller  None\n",
       "2  Adventure  Science Fiction         Thriller      None  None\n",
       "3     Action        Adventure  Science Fiction   Fantasy  None\n",
       "4     Action            Crime         Thriller      None  None"
      ]
     },
     "execution_count": 44,
     "metadata": {},
     "output_type": "execute_result"
    }
   ],
   "source": [
    "genres_split = movies_df_genres[\"genres\"].str.split(\"|\", n = 10, expand = True) # Most films have more than one genre. It is better to make it so every column has only one genre.\n",
    "\n",
    "genres_split.head() "
   ]
  },
  {
   "cell_type": "code",
   "execution_count": 45,
   "metadata": {
    "collapsed": true
   },
   "outputs": [],
   "source": [
    "genres_split.columns =['genre1', 'genre2', 'genre3', 'genre4', 'genre5']"
   ]
  },
  {
   "cell_type": "code",
   "execution_count": 46,
   "metadata": {
    "collapsed": true
   },
   "outputs": [],
   "source": [
    "movies_df_genres.drop('genres', axis=1, inplace=True) #Drop original genres column "
   ]
  },
  {
   "cell_type": "code",
   "execution_count": 47,
   "metadata": {},
   "outputs": [
    {
     "data": {
      "text/html": [
       "<div>\n",
       "<style scoped>\n",
       "    .dataframe tbody tr th:only-of-type {\n",
       "        vertical-align: middle;\n",
       "    }\n",
       "\n",
       "    .dataframe tbody tr th {\n",
       "        vertical-align: top;\n",
       "    }\n",
       "\n",
       "    .dataframe thead th {\n",
       "        text-align: right;\n",
       "    }\n",
       "</style>\n",
       "<table border=\"1\" class=\"dataframe\">\n",
       "  <thead>\n",
       "    <tr style=\"text-align: right;\">\n",
       "      <th></th>\n",
       "      <th>id</th>\n",
       "      <th>original_title</th>\n",
       "      <th>release_date</th>\n",
       "      <th>release_year</th>\n",
       "      <th>popularity</th>\n",
       "      <th>runtime</th>\n",
       "      <th>vote_average</th>\n",
       "      <th>vote_count</th>\n",
       "      <th>vote_level</th>\n",
       "      <th>genre1</th>\n",
       "      <th>genre2</th>\n",
       "      <th>genre3</th>\n",
       "      <th>genre4</th>\n",
       "      <th>genre5</th>\n",
       "    </tr>\n",
       "  </thead>\n",
       "  <tbody>\n",
       "    <tr>\n",
       "      <th>0</th>\n",
       "      <td>135397</td>\n",
       "      <td>Jurassic World</td>\n",
       "      <td>2015-06-09</td>\n",
       "      <td>2015</td>\n",
       "      <td>32.985763</td>\n",
       "      <td>124.0</td>\n",
       "      <td>6.5</td>\n",
       "      <td>5562</td>\n",
       "      <td>Medium</td>\n",
       "      <td>Action</td>\n",
       "      <td>Adventure</td>\n",
       "      <td>Science Fiction</td>\n",
       "      <td>Thriller</td>\n",
       "      <td>None</td>\n",
       "    </tr>\n",
       "    <tr>\n",
       "      <th>1</th>\n",
       "      <td>76341</td>\n",
       "      <td>Mad Max: Fury Road</td>\n",
       "      <td>2015-05-13</td>\n",
       "      <td>2015</td>\n",
       "      <td>28.419936</td>\n",
       "      <td>120.0</td>\n",
       "      <td>7.1</td>\n",
       "      <td>6185</td>\n",
       "      <td>high</td>\n",
       "      <td>Action</td>\n",
       "      <td>Adventure</td>\n",
       "      <td>Science Fiction</td>\n",
       "      <td>Thriller</td>\n",
       "      <td>None</td>\n",
       "    </tr>\n",
       "    <tr>\n",
       "      <th>2</th>\n",
       "      <td>262500</td>\n",
       "      <td>Insurgent</td>\n",
       "      <td>2015-03-18</td>\n",
       "      <td>2015</td>\n",
       "      <td>13.112507</td>\n",
       "      <td>119.0</td>\n",
       "      <td>6.3</td>\n",
       "      <td>2480</td>\n",
       "      <td>Medium</td>\n",
       "      <td>Adventure</td>\n",
       "      <td>Science Fiction</td>\n",
       "      <td>Thriller</td>\n",
       "      <td>None</td>\n",
       "      <td>None</td>\n",
       "    </tr>\n",
       "    <tr>\n",
       "      <th>3</th>\n",
       "      <td>140607</td>\n",
       "      <td>Star Wars: The Force Awakens</td>\n",
       "      <td>2015-12-15</td>\n",
       "      <td>2015</td>\n",
       "      <td>11.173104</td>\n",
       "      <td>136.0</td>\n",
       "      <td>7.5</td>\n",
       "      <td>5292</td>\n",
       "      <td>high</td>\n",
       "      <td>Action</td>\n",
       "      <td>Adventure</td>\n",
       "      <td>Science Fiction</td>\n",
       "      <td>Fantasy</td>\n",
       "      <td>None</td>\n",
       "    </tr>\n",
       "    <tr>\n",
       "      <th>4</th>\n",
       "      <td>168259</td>\n",
       "      <td>Furious 7</td>\n",
       "      <td>2015-04-01</td>\n",
       "      <td>2015</td>\n",
       "      <td>9.335014</td>\n",
       "      <td>137.0</td>\n",
       "      <td>7.3</td>\n",
       "      <td>2947</td>\n",
       "      <td>high</td>\n",
       "      <td>Action</td>\n",
       "      <td>Crime</td>\n",
       "      <td>Thriller</td>\n",
       "      <td>None</td>\n",
       "      <td>None</td>\n",
       "    </tr>\n",
       "  </tbody>\n",
       "</table>\n",
       "</div>"
      ],
      "text/plain": [
       "       id                original_title release_date  release_year  \\\n",
       "0  135397                Jurassic World   2015-06-09          2015   \n",
       "1   76341            Mad Max: Fury Road   2015-05-13          2015   \n",
       "2  262500                     Insurgent   2015-03-18          2015   \n",
       "3  140607  Star Wars: The Force Awakens   2015-12-15          2015   \n",
       "4  168259                     Furious 7   2015-04-01          2015   \n",
       "\n",
       "   popularity  runtime  vote_average  vote_count vote_level     genre1  \\\n",
       "0   32.985763    124.0           6.5        5562     Medium     Action   \n",
       "1   28.419936    120.0           7.1        6185       high     Action   \n",
       "2   13.112507    119.0           6.3        2480     Medium  Adventure   \n",
       "3   11.173104    136.0           7.5        5292       high     Action   \n",
       "4    9.335014    137.0           7.3        2947       high     Action   \n",
       "\n",
       "            genre2           genre3    genre4 genre5  \n",
       "0        Adventure  Science Fiction  Thriller   None  \n",
       "1        Adventure  Science Fiction  Thriller   None  \n",
       "2  Science Fiction         Thriller      None   None  \n",
       "3        Adventure  Science Fiction   Fantasy   None  \n",
       "4            Crime         Thriller      None   None  "
      ]
     },
     "execution_count": 47,
     "metadata": {},
     "output_type": "execute_result"
    }
   ],
   "source": [
    "movies_df_genres[\"genre1\"]= genres_split[\"genre1\"] # Add the splitted genres to the original datafarme\n",
    "movies_df_genres[\"genre2\"]= genres_split[\"genre2\"] \n",
    "movies_df_genres[\"genre3\"]= genres_split[\"genre3\"] \n",
    "movies_df_genres[\"genre4\"]= genres_split[\"genre4\"] \n",
    "movies_df_genres[\"genre5\"]= genres_split[\"genre5\"] \n",
    "\n",
    "movies_df_genres.head()"
   ]
  },
  {
   "cell_type": "code",
   "execution_count": 48,
   "metadata": {
    "collapsed": true
   },
   "outputs": [],
   "source": [
    "movies_df_genres_clean = movies_df_genres.copy()"
   ]
  },
  {
   "cell_type": "code",
   "execution_count": 49,
   "metadata": {
    "collapsed": true
   },
   "outputs": [],
   "source": [
    "movies_df_genres_clean.drop(['id','original_title' ,'release_date', 'release_year','popularity','runtime','vote_average','vote_count', 'vote_level'], axis=1, inplace=True)"
   ]
  },
  {
   "cell_type": "code",
   "execution_count": 50,
   "metadata": {
    "collapsed": true
   },
   "outputs": [],
   "source": [
    "movies_genres = movies_df_genres_clean.melt()"
   ]
  },
  {
   "cell_type": "code",
   "execution_count": 51,
   "metadata": {},
   "outputs": [
    {
     "data": {
      "text/html": [
       "<div>\n",
       "<style scoped>\n",
       "    .dataframe tbody tr th:only-of-type {\n",
       "        vertical-align: middle;\n",
       "    }\n",
       "\n",
       "    .dataframe tbody tr th {\n",
       "        vertical-align: top;\n",
       "    }\n",
       "\n",
       "    .dataframe thead th {\n",
       "        text-align: right;\n",
       "    }\n",
       "</style>\n",
       "<table border=\"1\" class=\"dataframe\">\n",
       "  <thead>\n",
       "    <tr style=\"text-align: right;\">\n",
       "      <th>variable</th>\n",
       "      <th>genre1</th>\n",
       "      <th>genre2</th>\n",
       "      <th>genre3</th>\n",
       "      <th>genre4</th>\n",
       "      <th>genre5</th>\n",
       "    </tr>\n",
       "    <tr>\n",
       "      <th>value</th>\n",
       "      <th></th>\n",
       "      <th></th>\n",
       "      <th></th>\n",
       "      <th></th>\n",
       "      <th></th>\n",
       "    </tr>\n",
       "  </thead>\n",
       "  <tbody>\n",
       "    <tr>\n",
       "      <th>Action</th>\n",
       "      <td>1590</td>\n",
       "      <td>544</td>\n",
       "      <td>198</td>\n",
       "      <td>42</td>\n",
       "      <td>10</td>\n",
       "    </tr>\n",
       "    <tr>\n",
       "      <th>Adventure</th>\n",
       "      <td>586</td>\n",
       "      <td>626</td>\n",
       "      <td>183</td>\n",
       "      <td>62</td>\n",
       "      <td>14</td>\n",
       "    </tr>\n",
       "    <tr>\n",
       "      <th>Animation</th>\n",
       "      <td>403</td>\n",
       "      <td>207</td>\n",
       "      <td>80</td>\n",
       "      <td>6</td>\n",
       "      <td>3</td>\n",
       "    </tr>\n",
       "    <tr>\n",
       "      <th>Comedy</th>\n",
       "      <td>2319</td>\n",
       "      <td>990</td>\n",
       "      <td>388</td>\n",
       "      <td>81</td>\n",
       "      <td>15</td>\n",
       "    </tr>\n",
       "    <tr>\n",
       "      <th>Crime</th>\n",
       "      <td>380</td>\n",
       "      <td>449</td>\n",
       "      <td>350</td>\n",
       "      <td>152</td>\n",
       "      <td>23</td>\n",
       "    </tr>\n",
       "    <tr>\n",
       "      <th>Documentary</th>\n",
       "      <td>432</td>\n",
       "      <td>77</td>\n",
       "      <td>8</td>\n",
       "      <td>3</td>\n",
       "      <td>0</td>\n",
       "    </tr>\n",
       "    <tr>\n",
       "      <th>Drama</th>\n",
       "      <td>2453</td>\n",
       "      <td>1618</td>\n",
       "      <td>546</td>\n",
       "      <td>124</td>\n",
       "      <td>19</td>\n",
       "    </tr>\n",
       "    <tr>\n",
       "      <th>Family</th>\n",
       "      <td>144</td>\n",
       "      <td>448</td>\n",
       "      <td>401</td>\n",
       "      <td>178</td>\n",
       "      <td>60</td>\n",
       "    </tr>\n",
       "    <tr>\n",
       "      <th>Fantasy</th>\n",
       "      <td>272</td>\n",
       "      <td>304</td>\n",
       "      <td>190</td>\n",
       "      <td>109</td>\n",
       "      <td>41</td>\n",
       "    </tr>\n",
       "    <tr>\n",
       "      <th>Foreign</th>\n",
       "      <td>9</td>\n",
       "      <td>62</td>\n",
       "      <td>69</td>\n",
       "      <td>37</td>\n",
       "      <td>11</td>\n",
       "    </tr>\n",
       "    <tr>\n",
       "      <th>History</th>\n",
       "      <td>44</td>\n",
       "      <td>159</td>\n",
       "      <td>88</td>\n",
       "      <td>39</td>\n",
       "      <td>4</td>\n",
       "    </tr>\n",
       "    <tr>\n",
       "      <th>Horror</th>\n",
       "      <td>915</td>\n",
       "      <td>489</td>\n",
       "      <td>186</td>\n",
       "      <td>36</td>\n",
       "      <td>11</td>\n",
       "    </tr>\n",
       "    <tr>\n",
       "      <th>Music</th>\n",
       "      <td>100</td>\n",
       "      <td>183</td>\n",
       "      <td>79</td>\n",
       "      <td>32</td>\n",
       "      <td>14</td>\n",
       "    </tr>\n",
       "    <tr>\n",
       "      <th>Mystery</th>\n",
       "      <td>125</td>\n",
       "      <td>238</td>\n",
       "      <td>289</td>\n",
       "      <td>121</td>\n",
       "      <td>37</td>\n",
       "    </tr>\n",
       "    <tr>\n",
       "      <th>Romance</th>\n",
       "      <td>186</td>\n",
       "      <td>704</td>\n",
       "      <td>583</td>\n",
       "      <td>194</td>\n",
       "      <td>45</td>\n",
       "    </tr>\n",
       "    <tr>\n",
       "      <th>Science Fiction</th>\n",
       "      <td>214</td>\n",
       "      <td>330</td>\n",
       "      <td>401</td>\n",
       "      <td>216</td>\n",
       "      <td>68</td>\n",
       "    </tr>\n",
       "    <tr>\n",
       "      <th>TV Movie</th>\n",
       "      <td>78</td>\n",
       "      <td>29</td>\n",
       "      <td>19</td>\n",
       "      <td>27</td>\n",
       "      <td>14</td>\n",
       "    </tr>\n",
       "    <tr>\n",
       "      <th>Thriller</th>\n",
       "      <td>491</td>\n",
       "      <td>961</td>\n",
       "      <td>886</td>\n",
       "      <td>449</td>\n",
       "      <td>120</td>\n",
       "    </tr>\n",
       "    <tr>\n",
       "      <th>War</th>\n",
       "      <td>59</td>\n",
       "      <td>53</td>\n",
       "      <td>95</td>\n",
       "      <td>41</td>\n",
       "      <td>22</td>\n",
       "    </tr>\n",
       "    <tr>\n",
       "      <th>Western</th>\n",
       "      <td>42</td>\n",
       "      <td>43</td>\n",
       "      <td>39</td>\n",
       "      <td>31</td>\n",
       "      <td>10</td>\n",
       "    </tr>\n",
       "  </tbody>\n",
       "</table>\n",
       "</div>"
      ],
      "text/plain": [
       "variable         genre1  genre2  genre3  genre4  genre5\n",
       "value                                                  \n",
       "Action             1590     544     198      42      10\n",
       "Adventure           586     626     183      62      14\n",
       "Animation           403     207      80       6       3\n",
       "Comedy             2319     990     388      81      15\n",
       "Crime               380     449     350     152      23\n",
       "Documentary         432      77       8       3       0\n",
       "Drama              2453    1618     546     124      19\n",
       "Family              144     448     401     178      60\n",
       "Fantasy             272     304     190     109      41\n",
       "Foreign               9      62      69      37      11\n",
       "History              44     159      88      39       4\n",
       "Horror              915     489     186      36      11\n",
       "Music               100     183      79      32      14\n",
       "Mystery             125     238     289     121      37\n",
       "Romance             186     704     583     194      45\n",
       "Science Fiction     214     330     401     216      68\n",
       "TV Movie             78      29      19      27      14\n",
       "Thriller            491     961     886     449     120\n",
       "War                  59      53      95      41      22\n",
       "Western              42      43      39      31      10"
      ]
     },
     "execution_count": 51,
     "metadata": {},
     "output_type": "execute_result"
    }
   ],
   "source": [
    "# Then I'll use crosstab to group the genres, and assign it to a new df.\n",
    "movies_genres_1 = pd.crosstab(index=movies_genres['value'], columns=movies_genres['variable'])\n",
    "movies_genres_1 "
   ]
  },
  {
   "cell_type": "code",
   "execution_count": 52,
   "metadata": {},
   "outputs": [
    {
     "data": {
      "text/html": [
       "<div>\n",
       "<style scoped>\n",
       "    .dataframe tbody tr th:only-of-type {\n",
       "        vertical-align: middle;\n",
       "    }\n",
       "\n",
       "    .dataframe tbody tr th {\n",
       "        vertical-align: top;\n",
       "    }\n",
       "\n",
       "    .dataframe thead th {\n",
       "        text-align: right;\n",
       "    }\n",
       "</style>\n",
       "<table border=\"1\" class=\"dataframe\">\n",
       "  <thead>\n",
       "    <tr style=\"text-align: right;\">\n",
       "      <th>variable</th>\n",
       "      <th>genre1</th>\n",
       "      <th>genre2</th>\n",
       "      <th>genre3</th>\n",
       "      <th>genre4</th>\n",
       "      <th>genre5</th>\n",
       "      <th>totals</th>\n",
       "    </tr>\n",
       "    <tr>\n",
       "      <th>value</th>\n",
       "      <th></th>\n",
       "      <th></th>\n",
       "      <th></th>\n",
       "      <th></th>\n",
       "      <th></th>\n",
       "      <th></th>\n",
       "    </tr>\n",
       "  </thead>\n",
       "  <tbody>\n",
       "    <tr>\n",
       "      <th>Action</th>\n",
       "      <td>1590</td>\n",
       "      <td>544</td>\n",
       "      <td>198</td>\n",
       "      <td>42</td>\n",
       "      <td>10</td>\n",
       "      <td>2384</td>\n",
       "    </tr>\n",
       "    <tr>\n",
       "      <th>Adventure</th>\n",
       "      <td>586</td>\n",
       "      <td>626</td>\n",
       "      <td>183</td>\n",
       "      <td>62</td>\n",
       "      <td>14</td>\n",
       "      <td>1471</td>\n",
       "    </tr>\n",
       "    <tr>\n",
       "      <th>Animation</th>\n",
       "      <td>403</td>\n",
       "      <td>207</td>\n",
       "      <td>80</td>\n",
       "      <td>6</td>\n",
       "      <td>3</td>\n",
       "      <td>699</td>\n",
       "    </tr>\n",
       "    <tr>\n",
       "      <th>Comedy</th>\n",
       "      <td>2319</td>\n",
       "      <td>990</td>\n",
       "      <td>388</td>\n",
       "      <td>81</td>\n",
       "      <td>15</td>\n",
       "      <td>3793</td>\n",
       "    </tr>\n",
       "    <tr>\n",
       "      <th>Crime</th>\n",
       "      <td>380</td>\n",
       "      <td>449</td>\n",
       "      <td>350</td>\n",
       "      <td>152</td>\n",
       "      <td>23</td>\n",
       "      <td>1354</td>\n",
       "    </tr>\n",
       "  </tbody>\n",
       "</table>\n",
       "</div>"
      ],
      "text/plain": [
       "variable   genre1  genre2  genre3  genre4  genre5  totals\n",
       "value                                                    \n",
       "Action       1590     544     198      42      10    2384\n",
       "Adventure     586     626     183      62      14    1471\n",
       "Animation     403     207      80       6       3     699\n",
       "Comedy       2319     990     388      81      15    3793\n",
       "Crime         380     449     350     152      23    1354"
      ]
     },
     "execution_count": 52,
     "metadata": {},
     "output_type": "execute_result"
    }
   ],
   "source": [
    "movies_genres_1['totals'] = movies_genres_1['genre1'] + movies_genres_1['genre2'] + movies_genres_1['genre3'] + movies_genres_1['genre4'] + movies_genres_1['genre5']\n",
    "movies_genres_1.head()"
   ]
  },
  {
   "cell_type": "code",
   "execution_count": 53,
   "metadata": {},
   "outputs": [
    {
     "data": {
      "image/png": "[encoded data removed]",
      "text/plain": [
       "<Figure size 720x504 with 1 Axes>"
      ]
     },
     "metadata": {
      "needs_background": "light"
     },
     "output_type": "display_data"
    }
   ],
   "source": [
    "movies_genres_1['totals'].plot(kind=\"bar\", figsize=(10,7)) # Plot in a bar chart\n",
    "plt.xlabel('Genres')\n",
    "plt.ylabel('Frequency')\n",
    "plt.title('The Number of Movies based on Genre');"
   ]
  },
  {
   "cell_type": "markdown",
   "metadata": {},
   "source": [
    "> This bar chart shows that the 3 most commen genre are Drama, Comedy and Thriller. While the 3 least movie genre are TV Movie, Western and Foreign."
   ]
  },
  {
   "cell_type": "markdown",
   "metadata": {},
   "source": [
    "<a id='conclusions'></a>\n",
    "## Conclusion\n",
    "\n",
    "> This data set contains information about movies collected from The Movie Database (TMDb), including user ratings ratings, revenue, runtime and budget.\n",
    "\n",
    "> After diving deep in the data, I found that the data set has 10688 records, with 10571 unique Movie titles. First I focused on the Budget and Revenue. I thought that would be an interseting and important part to analyse. However, I found out that about 52% of the records missing  Budget value, while about 55% are missing Revenue value. It is not logical or even accurate to fill these missing values with Average or even delete them. In both Scenarios, the accuracy and credibility of the analysis will be lost. That is why, I decided to ignore them and focus on other issues which might be more important to the.0 production companies.\n",
    "\n",
    "\n",
    "\n",
    "> \"Best\" is a label that defines movies that have the top revenues. So i'll explore what\n",
    "month(s) have the highest revenues. Now plot these in a bar chart.\n",
    "\n",
    "\n",
    "> The conclusion after the analysing:\n",
    "\n",
    "> There is a strong increase in the number of movies produced, escpeically in the 1980s.That is due to satallite and the Inernet technology, that also affects the increase of the amount of movies by the end of last century and this century. This increase is due to the advanced filmmaking technology, which makes the film industry easier and faster. However, there is a slight decline in 2015 in comparision with the pick 2014. Inspite of there is a decline in the number os movies produced in 2015. I found it interesting that 20% of the best 25 rated movies filtered by years are in 2010. That concludes that the quality is more important than quantity.\n",
    "\n",
    "> On average, in recent years popularity in movies has been increasing. The trend is reasonable due to easily access of movie information nowadays. In the Internet age, people can easily search and gather movie information, visit various movie introduction pages, rate movies, even watching the content through different sources. This is probably what affects how popular a movie can be.\n",
    "\n",
    "> The relationship between runtime and vote average?: Short films are likely to have a mid-to-high rating. Movies with a runtime around 100 minutes tend to have an unpredictable rating, as they can run from low to high. Films/shows with a runtime above or below 100 minues tend to have mid-to-high ratings. Tv series and movies with long runtime consistently get higher-than-average ratings. \n",
    "\n",
    "> Relationship between release year and vote average: During the 1960s technology was not as advanced as it is right now. At that time, the only way to rate a movies was using paper. The increase of rating average started in the 1980s which is also reasonable, due to the beginnning of the advanced technology making it easier to rate movies.\n",
    "\n",
    "> Finally, when I analysed the genre, I noticed that only of the highet earning genres is in the top 3 most frequently produced genres: Drama, Comedy and Thriller. "
   ]
  },
  {
   "cell_type": "code",
   "execution_count": 54,
   "metadata": {},
   "outputs": [
    {
     "data": {
      "text/plain": [
       "0"
      ]
     },
     "execution_count": 54,
     "metadata": {},
     "output_type": "execute_result"
    }
   ],
   "source": [
    "from subprocess import call\n",
    "call(['python', '-m', 'nbconvert', 'Investigate_Movies_Dataset_Alkallas.ipynb'])"
   ]
  },
  {
   "cell_type": "markdown",
   "metadata": {},
   "source": [
    "\"\"\"Return a foobang\n",
    "\n",
    "Optional plotz says to frobnicate the bizbaz first.\n",
    "\"\"\""
   ]
  },
  {
   "cell_type": "code",
   "execution_count": null,
   "metadata": {
    "collapsed": true
   },
   "outputs": [],
   "source": []
  }
 ],
 "metadata": {
  "kernelspec": {
   "display_name": "Python 3",
   "language": "python",
   "name": "python3"
  },
  "language_info": {
   "codemirror_mode": {
    "name": "ipython",
    "version": 3
   },
   "file_extension": ".py",
   "mimetype": "text/x-python",
   "name": "python",
   "nbconvert_exporter": "python",
   "pygments_lexer": "ipython3",
   "version": "3.4.5"
  }
 },
 "nbformat": 4,
 "nbformat_minor": 2
}
